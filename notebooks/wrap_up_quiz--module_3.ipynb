{
 "metadata": {
  "language_info": {
   "codemirror_mode": {
    "name": "ipython",
    "version": 3
   },
   "file_extension": ".py",
   "mimetype": "text/x-python",
   "name": "python",
   "nbconvert_exporter": "python",
   "pygments_lexer": "ipython3",
   "version": "3.9.1"
  },
  "orig_nbformat": 2,
  "kernelspec": {
   "name": "python3",
   "display_name": "Python 3.9.1 64-bit"
  },
  "metadata": {
   "interpreter": {
    "hash": "effe5469eba6e2b1ac8a7bf67c428998281de374b9fe83a2f672f89c7077779b"
   }
  },
  "interpreter": {
   "hash": "effe5469eba6e2b1ac8a7bf67c428998281de374b9fe83a2f672f89c7077779b"
  }
 },
 "nbformat": 4,
 "nbformat_minor": 2,
 "cells": [
  {
   "source": [
    "# Module 3 : Wrap up Quizzzzzzz"
   ],
   "cell_type": "markdown",
   "metadata": {}
  },
  {
   "source": [
    "Import des données :"
   ],
   "cell_type": "markdown",
   "metadata": {}
  },
  {
   "cell_type": "code",
   "execution_count": 1,
   "metadata": {},
   "outputs": [],
   "source": [
    "import pandas as pd\n",
    "\n",
    "penguins = pd.read_csv(\"../datasets/penguins.csv\")\n",
    "\n",
    "columns = [\"Body Mass (g)\", \"Flipper Length (mm)\", \"Culmen Length (mm)\"]\n",
    "target_name = \"Species\"\n",
    "\n",
    "# Remove lines with missing values for the columns of interestes\n",
    "penguins_non_missing = penguins[columns + [target_name]].dropna()\n",
    "\n",
    "data = penguins_non_missing[columns]\n",
    "target = penguins_non_missing[target_name]"
   ]
  },
  {
   "cell_type": "code",
   "execution_count": 4,
   "metadata": {},
   "outputs": [
    {
     "output_type": "execute_result",
     "data": {
      "text/plain": [
       "     Body Mass (g)  Flipper Length (mm)  Culmen Length (mm)\n",
       "0           3750.0                181.0                39.1\n",
       "1           3800.0                186.0                39.5\n",
       "2           3250.0                195.0                40.3\n",
       "4           3450.0                193.0                36.7\n",
       "5           3650.0                190.0                39.3\n",
       "..             ...                  ...                 ...\n",
       "339         4000.0                207.0                55.8\n",
       "340         3400.0                202.0                43.5\n",
       "341         3775.0                193.0                49.6\n",
       "342         4100.0                210.0                50.8\n",
       "343         3775.0                198.0                50.2\n",
       "\n",
       "[342 rows x 3 columns]"
      ],
      "text/html": "<div>\n<style scoped>\n    .dataframe tbody tr th:only-of-type {\n        vertical-align: middle;\n    }\n\n    .dataframe tbody tr th {\n        vertical-align: top;\n    }\n\n    .dataframe thead th {\n        text-align: right;\n    }\n</style>\n<table border=\"1\" class=\"dataframe\">\n  <thead>\n    <tr style=\"text-align: right;\">\n      <th></th>\n      <th>Body Mass (g)</th>\n      <th>Flipper Length (mm)</th>\n      <th>Culmen Length (mm)</th>\n    </tr>\n  </thead>\n  <tbody>\n    <tr>\n      <th>0</th>\n      <td>3750.0</td>\n      <td>181.0</td>\n      <td>39.1</td>\n    </tr>\n    <tr>\n      <th>1</th>\n      <td>3800.0</td>\n      <td>186.0</td>\n      <td>39.5</td>\n    </tr>\n    <tr>\n      <th>2</th>\n      <td>3250.0</td>\n      <td>195.0</td>\n      <td>40.3</td>\n    </tr>\n    <tr>\n      <th>4</th>\n      <td>3450.0</td>\n      <td>193.0</td>\n      <td>36.7</td>\n    </tr>\n    <tr>\n      <th>5</th>\n      <td>3650.0</td>\n      <td>190.0</td>\n      <td>39.3</td>\n    </tr>\n    <tr>\n      <th>...</th>\n      <td>...</td>\n      <td>...</td>\n      <td>...</td>\n    </tr>\n    <tr>\n      <th>339</th>\n      <td>4000.0</td>\n      <td>207.0</td>\n      <td>55.8</td>\n    </tr>\n    <tr>\n      <th>340</th>\n      <td>3400.0</td>\n      <td>202.0</td>\n      <td>43.5</td>\n    </tr>\n    <tr>\n      <th>341</th>\n      <td>3775.0</td>\n      <td>193.0</td>\n      <td>49.6</td>\n    </tr>\n    <tr>\n      <th>342</th>\n      <td>4100.0</td>\n      <td>210.0</td>\n      <td>50.8</td>\n    </tr>\n    <tr>\n      <th>343</th>\n      <td>3775.0</td>\n      <td>198.0</td>\n      <td>50.2</td>\n    </tr>\n  </tbody>\n</table>\n<p>342 rows × 3 columns</p>\n</div>"
     },
     "metadata": {},
     "execution_count": 4
    }
   ],
   "source": [
    "data"
   ]
  },
  {
   "cell_type": "code",
   "execution_count": 5,
   "metadata": {},
   "outputs": [
    {
     "output_type": "execute_result",
     "data": {
      "text/plain": [
       "0            Adelie Penguin (Pygoscelis adeliae)\n",
       "1            Adelie Penguin (Pygoscelis adeliae)\n",
       "2            Adelie Penguin (Pygoscelis adeliae)\n",
       "4            Adelie Penguin (Pygoscelis adeliae)\n",
       "5            Adelie Penguin (Pygoscelis adeliae)\n",
       "                         ...                    \n",
       "339    Chinstrap penguin (Pygoscelis antarctica)\n",
       "340    Chinstrap penguin (Pygoscelis antarctica)\n",
       "341    Chinstrap penguin (Pygoscelis antarctica)\n",
       "342    Chinstrap penguin (Pygoscelis antarctica)\n",
       "343    Chinstrap penguin (Pygoscelis antarctica)\n",
       "Name: Species, Length: 342, dtype: object"
      ]
     },
     "metadata": {},
     "execution_count": 5
    }
   ],
   "source": [
    "target"
   ]
  },
  {
   "cell_type": "code",
   "execution_count": 8,
   "metadata": {},
   "outputs": [
    {
     "output_type": "execute_result",
     "data": {
      "text/plain": [
       "Adelie Penguin (Pygoscelis adeliae)          151\n",
       "Gentoo penguin (Pygoscelis papua)            123\n",
       "Chinstrap penguin (Pygoscelis antarctica)     68\n",
       "Name: Species, dtype: int64"
      ]
     },
     "metadata": {},
     "execution_count": 8
    }
   ],
   "source": [
    "target.value_counts()"
   ]
  },
  {
   "source": [
    "#### Question 1 : Select the correct assertions from the following proposals.\n",
    "\n",
    " a) The problem to be solved is a regression problem  \n",
    " b) The problem to be solved is a binary classification problem (exactly 2 possible classes)  \n",
    " c) The problem to be solved is a multiclass classification problem (more than 2 possible classes)  \n",
    " d) The proportions of the class counts are balanced: there are approximately the same number of rows for each class  \n",
    " e) The proportions of the class counts are imbalanced: some classes have more than twice as many rows than others)  \n",
    " f) The input features have similar dynamic ranges (or scales)\n",
    "\n",
    "Je dirais : c) et e)"
   ],
   "cell_type": "markdown",
   "metadata": {}
  },
  {
   "source": [
    "#### Question 2 : Let's now consider the following pipeline:\n",
    "\n",
    "```\n",
    "from sklearn.neighbors import KNeighborsClassifier\n",
    "from sklearn.preprocessing import StandardScaler\n",
    "from sklearn.pipeline import Pipeline\n",
    "model = Pipeline(steps=[\n",
    "    (\"preprocessor\", StandardScaler()),\n",
    "    (\"classifier\", KNeighborsClassifier(n_neighbors=5)),\n",
    "])\n",
    "```\n",
    "\n",
    "Evaluate the pipeline using 10-fold cross-validation using the balanced-accuracy scoring metric to choose the correct statements.\n",
    "\n",
    "Use sklearn.model_selection.cross_validate with scoring=\"balanced_accuracy\". Use model.get_params() to list the parameters of the pipeline and use model.set_params(param_name=param_value) to update them.\n",
    "\n",
    "For this question, we consider a model is better if its mean cross-validation score is larger than the mean plus the standard deviation of the cross-validation score of the model that we compare to.\n",
    "\n",
    " a) The average cross-validated test balanced_accuracy of the above pipeline is between 0.9 and 1.0  \n",
    " b) The average cross-validated test balanced_accuracy of the above pipeline is between 0.8 and 0.9  \n",
    " c) The average cross-validated test balanced_accuracy of the above pipeline is between 0.5 and 0.8  \n",
    " d) Using n_neighbors=5 is much better than n_neighbors=51  \n",
    " e) Preprocessing with StandardScaler is much better than using the raw features (with n_neighbors=5)\n",
    "\n",
    " Du coup a) et e)"
   ],
   "cell_type": "markdown",
   "metadata": {}
  },
  {
   "cell_type": "code",
   "execution_count": 28,
   "metadata": {},
   "outputs": [
    {
     "output_type": "stream",
     "name": "stdout",
     "text": [
      "Score du modèle : 0.952 +/- 0.040\nScore du modèle avec 51 voisins : 0.942 +/- 0.039\nScore du modèle sans normalisation des données : 0.740 +/- 0.087\n"
     ]
    }
   ],
   "source": [
    "from sklearn.neighbors import KNeighborsClassifier\n",
    "from sklearn.preprocessing import StandardScaler\n",
    "from sklearn.pipeline import Pipeline\n",
    "from sklearn.model_selection import cross_validate\n",
    "\n",
    "model = Pipeline(steps=[\n",
    "    (\"preprocessor\", StandardScaler()),\n",
    "    (\"classifier\", KNeighborsClassifier(n_neighbors=5)),\n",
    "])\n",
    "\n",
    "## Calcul du modèle initial\n",
    "cv_results = cross_validate(model, data, target, scoring=\"balanced_accuracy\", cv=10)\n",
    "print(f\"Score du modèle : {cv_results['test_score'].mean():.3f} +/- {cv_results['test_score'].std():.3f}\")\n",
    "\n",
    "## Calcul du modèle avec changement du param n_neighbors\n",
    "nb_neighbors = 51\n",
    "model.set_params(classifier__n_neighbors=nb_neighbors)\n",
    "cv_results = cross_validate(model, data, target, scoring=\"balanced_accuracy\", cv=10)\n",
    "print(f\"Score du modèle avec {nb_neighbors} voisins : {cv_results['test_score'].mean():.3f} +/- {cv_results['test_score'].std():.3f}\")\n",
    "\n",
    "## Calcul du modèle sans StandardScaler\n",
    "model.set_params(preprocessor=None, classifier__n_neighbors=5)\n",
    "cv_results = cross_validate(model, data, target, scoring=\"balanced_accuracy\", cv=10)\n",
    "print(f\"Score du modèle sans normalisation des données : {cv_results['test_score'].mean():.3f} +/- {cv_results['test_score'].std():.3f}\")\n",
    "\n"
   ]
  },
  {
   "source": [
    "#### Question 3 : We will now study the impact of different preprocessors defined in the list below:\n",
    "\n",
    "```\n",
    "from sklearn.preprocessing import MinMaxScaler\n",
    "from sklearn.preprocessing import QuantileTransformer\n",
    "from sklearn.preprocessing import PowerTransformer\n",
    "\n",
    "\n",
    "all_preprocessors = [\n",
    "    None,\n",
    "    StandardScaler(),\n",
    "    MinMaxScaler(),\n",
    "    QuantileTransformer(n_quantiles=100),\n",
    "    PowerTransformer(method=\"box-cox\"),\n",
    "]\n",
    "```\n",
    "\n",
    "The Box-Cox method is common preprocessing strategy for positive values. The other preprocessors work both for any kind of numerical features. If you are curious to read the details about those method, please feel free to read them up in the preprocessing chapter of the scikit-learn user guide but this is not required to answer the quiz questions.\n",
    "\n",
    "Use sklearn.model_selection.GridSearchCV to study the impact of the choice of the preprocessor and the number of neighbors on the 10-fold cross-validated balanced_accuracy metric. We want to study the n_neighbors in the range [5, 51, 101] and preprocessor in the range all_preprocessors.\n",
    "\n",
    "Let us consider that a model is significantly better than another if the its mean test score is better than the mean test score of the alternative by more than the standard deviation of its test score.\n",
    "\n",
    "Which of the following statements hold:\n",
    "\n",
    " a) The best model with StandardScaler is significantly better than using any other processor  \n",
    " b) Using any of the preprocessors has always a better ranking than using no processor, irrespective of the value of n_neighbors  \n",
    " c) The model with n_neighbors=5 and StandardScaler is significantly better than the model with n_neighbors=51 and StandardScaler.  \n",
    " d) The model with n_neighbors=51 and StandardScaler is significantly better than the model with n_neighbors=101 and StandardScaler.\n",
    "\n",
    "\n"
   ],
   "cell_type": "markdown",
   "metadata": {}
  },
  {
   "cell_type": "code",
   "execution_count": 55,
   "metadata": {},
   "outputs": [
    {
     "output_type": "execute_result",
     "data": {
      "text/plain": [
       "   param_classifier__n_neighbors                    param_preprocessor  \\\n",
       "1                              5                      StandardScaler()   \n",
       "2                              5                        MinMaxScaler()   \n",
       "3                              5  QuantileTransformer(n_quantiles=100)   \n",
       "4                              5    PowerTransformer(method='box-cox')   \n",
       "6                             51                      StandardScaler()   \n",
       "8                             51  QuantileTransformer(n_quantiles=100)   \n",
       "9                             51    PowerTransformer(method='box-cox')   \n",
       "7                             51                        MinMaxScaler()   \n",
       "11                           101                      StandardScaler()   \n",
       "12                           101                        MinMaxScaler()   \n",
       "14                           101    PowerTransformer(method='box-cox')   \n",
       "13                           101  QuantileTransformer(n_quantiles=100)   \n",
       "0                              5                                  None   \n",
       "10                           101                                  None   \n",
       "5                             51                                  None   \n",
       "\n",
       "    mean_test_score  std_test_score  \n",
       "1          0.952198        0.039902  \n",
       "2          0.947778        0.034268  \n",
       "3          0.947094        0.033797  \n",
       "4          0.946960        0.047387  \n",
       "6          0.941880        0.038905  \n",
       "8          0.927277        0.043759  \n",
       "9          0.922833        0.047883  \n",
       "7          0.920293        0.045516  \n",
       "11         0.876642        0.041618  \n",
       "12         0.862357        0.046244  \n",
       "14         0.857143        0.041000  \n",
       "13         0.812991        0.044788  \n",
       "0          0.739838        0.086685  \n",
       "10         0.613857        0.031472  \n",
       "5          0.605182        0.036480  "
      ],
      "text/html": "<div>\n<style scoped>\n    .dataframe tbody tr th:only-of-type {\n        vertical-align: middle;\n    }\n\n    .dataframe tbody tr th {\n        vertical-align: top;\n    }\n\n    .dataframe thead th {\n        text-align: right;\n    }\n</style>\n<table border=\"1\" class=\"dataframe\">\n  <thead>\n    <tr style=\"text-align: right;\">\n      <th></th>\n      <th>param_classifier__n_neighbors</th>\n      <th>param_preprocessor</th>\n      <th>mean_test_score</th>\n      <th>std_test_score</th>\n    </tr>\n  </thead>\n  <tbody>\n    <tr>\n      <th>1</th>\n      <td>5</td>\n      <td>StandardScaler()</td>\n      <td>0.952198</td>\n      <td>0.039902</td>\n    </tr>\n    <tr>\n      <th>2</th>\n      <td>5</td>\n      <td>MinMaxScaler()</td>\n      <td>0.947778</td>\n      <td>0.034268</td>\n    </tr>\n    <tr>\n      <th>3</th>\n      <td>5</td>\n      <td>QuantileTransformer(n_quantiles=100)</td>\n      <td>0.947094</td>\n      <td>0.033797</td>\n    </tr>\n    <tr>\n      <th>4</th>\n      <td>5</td>\n      <td>PowerTransformer(method='box-cox')</td>\n      <td>0.946960</td>\n      <td>0.047387</td>\n    </tr>\n    <tr>\n      <th>6</th>\n      <td>51</td>\n      <td>StandardScaler()</td>\n      <td>0.941880</td>\n      <td>0.038905</td>\n    </tr>\n    <tr>\n      <th>8</th>\n      <td>51</td>\n      <td>QuantileTransformer(n_quantiles=100)</td>\n      <td>0.927277</td>\n      <td>0.043759</td>\n    </tr>\n    <tr>\n      <th>9</th>\n      <td>51</td>\n      <td>PowerTransformer(method='box-cox')</td>\n      <td>0.922833</td>\n      <td>0.047883</td>\n    </tr>\n    <tr>\n      <th>7</th>\n      <td>51</td>\n      <td>MinMaxScaler()</td>\n      <td>0.920293</td>\n      <td>0.045516</td>\n    </tr>\n    <tr>\n      <th>11</th>\n      <td>101</td>\n      <td>StandardScaler()</td>\n      <td>0.876642</td>\n      <td>0.041618</td>\n    </tr>\n    <tr>\n      <th>12</th>\n      <td>101</td>\n      <td>MinMaxScaler()</td>\n      <td>0.862357</td>\n      <td>0.046244</td>\n    </tr>\n    <tr>\n      <th>14</th>\n      <td>101</td>\n      <td>PowerTransformer(method='box-cox')</td>\n      <td>0.857143</td>\n      <td>0.041000</td>\n    </tr>\n    <tr>\n      <th>13</th>\n      <td>101</td>\n      <td>QuantileTransformer(n_quantiles=100)</td>\n      <td>0.812991</td>\n      <td>0.044788</td>\n    </tr>\n    <tr>\n      <th>0</th>\n      <td>5</td>\n      <td>None</td>\n      <td>0.739838</td>\n      <td>0.086685</td>\n    </tr>\n    <tr>\n      <th>10</th>\n      <td>101</td>\n      <td>None</td>\n      <td>0.613857</td>\n      <td>0.031472</td>\n    </tr>\n    <tr>\n      <th>5</th>\n      <td>51</td>\n      <td>None</td>\n      <td>0.605182</td>\n      <td>0.036480</td>\n    </tr>\n  </tbody>\n</table>\n</div>"
     },
     "metadata": {},
     "execution_count": 55
    }
   ],
   "source": [
    "from sklearn.preprocessing import MinMaxScaler\n",
    "from sklearn.preprocessing import QuantileTransformer\n",
    "from sklearn.preprocessing import PowerTransformer\n",
    "from sklearn.model_selection import GridSearchCV\n",
    "\n",
    "all_preprocessors = [\n",
    "    None,\n",
    "    StandardScaler(),\n",
    "    MinMaxScaler(),\n",
    "    QuantileTransformer(n_quantiles=100),\n",
    "    PowerTransformer(method=\"box-cox\"),\n",
    "]\n",
    "neighbors = [5, 51, 101]\n",
    "\n",
    "param_grid = {\n",
    "    'classifier__n_neighbors': neighbors,\n",
    "    'preprocessor': all_preprocessors\n",
    "}\n",
    "\n",
    "model_grid_search = GridSearchCV(model, param_grid=param_grid, scoring=\"balanced_accuracy\", n_jobs=2, cv=10)\n",
    "cv_results = model_grid_search.fit(data, target).cv_results_\n",
    "\n",
    "results = (pd.DataFrame(cv_results).sort_values(by=\"mean_test_score\", ascending=False))\n",
    "results = results[\n",
    "    [c for c in results.columns if c.startswith(\"param_\")]\n",
    "    + [\"mean_test_score\", \"std_test_score\"]\n",
    "]\n",
    "\n",
    "results\n"
   ]
  },
  {
   "cell_type": "code",
   "execution_count": null,
   "metadata": {},
   "outputs": [],
   "source": []
  }
 ]
}
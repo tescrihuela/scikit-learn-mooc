{
 "cells": [
  {
   "cell_type": "markdown",
   "metadata": {},
   "source": [
    "# 📝 Exercise M3.01\n",
    "\n",
    "The goal is to write an exhaustive search to find the best parameters\n",
    "combination maximizing the model statistical performance.\n",
    "\n",
    "Here we use a small subset of the Adult Census dataset to make the code\n",
    "faster to execute. Once your code works on the small subset, try to\n",
    "change `train_size` to a larger value (e.g. 0.8 for 80% instead of\n",
    "20%)."
   ]
  },
  {
   "cell_type": "code",
   "execution_count": 3,
   "metadata": {},
   "outputs": [],
   "source": [
    "import pandas as pd\n",
    "\n",
    "from sklearn.model_selection import train_test_split\n",
    "\n",
    "adult_census = pd.read_csv(\"../datasets/adult-census.csv\")\n",
    "\n",
    "target_name = \"class\"\n",
    "target = adult_census[target_name]\n",
    "data = adult_census.drop(columns=[target_name, \"education-num\"])\n",
    "\n",
    "data_train, data_test, target_train, target_test = train_test_split(\n",
    "    data, target, train_size=0.2, random_state=42)"
   ]
  },
  {
   "cell_type": "code",
   "execution_count": null,
   "metadata": {},
   "outputs": [],
   "source": [
    "from sklearn.compose import ColumnTransformer\n",
    "from sklearn.compose import make_column_selector as selector\n",
    "from sklearn.preprocessing import OrdinalEncoder\n",
    "\n",
    "categorical_preprocessor = OrdinalEncoder(handle_unknown=\"use_encoded_value\",\n",
    "                                          unknown_value=-1)\n",
    "preprocessor = ColumnTransformer(\n",
    "    [('cat-preprocessor', categorical_preprocessor,\n",
    "      selector(dtype_include=object))],\n",
    "    remainder='passthrough', sparse_threshold=0)\n",
    "\n",
    "# This line is currently required to import HistGradientBoostingClassifier\n",
    "from sklearn.experimental import enable_hist_gradient_boosting\n",
    "from sklearn.ensemble import HistGradientBoostingClassifier\n",
    "from sklearn.pipeline import Pipeline\n",
    "\n",
    "model = Pipeline([\n",
    "    (\"preprocessor\", preprocessor),\n",
    "    (\"classifier\", HistGradientBoostingClassifier(random_state=42))\n",
    "])"
   ]
  },
  {
   "cell_type": "markdown",
   "metadata": {},
   "source": [
    "\n",
    "Use the previously defined model (called `model`) and using two nested `for`\n",
    "loops, make a search of the best combinations of the `learning_rate` and\n",
    "`max_leaf_nodes` parameters. In this regard, you will need to train and test\n",
    "the model by setting the parameters. The evaluation of the model should be\n",
    "performed using `cross_val_score`. We will use the following parameters\n",
    "search:\n",
    "- `learning_rate` for the values 0.01, 0.1, 1 and 10. This parameter controls\n",
    "  the ability of a new tree to correct the error of the previous sequence of\n",
    "  trees\n",
    "- `max_leaf_nodes` for the values 3, 10, 30. This parameter controls the\n",
    "  depth of each tree."
   ]
  },
  {
   "cell_type": "code",
   "execution_count": 20,
   "metadata": {},
   "outputs": [
    {
     "output_type": "stream",
     "name": "stdout",
     "text": [
      "The mean score using nested cross-validation with learning_rate = 0.01 and max_leaf_nodes = 3 is: 0.799 +/- 0.001\n",
      "The mean score using nested cross-validation with learning_rate = 0.01 and max_leaf_nodes = 10 is: 0.820 +/- 0.002\n",
      "The mean score using nested cross-validation with learning_rate = 0.01 and max_leaf_nodes = 30 is: 0.848 +/- 0.002\n",
      "The mean score using nested cross-validation with learning_rate = 0.1 and max_leaf_nodes = 3 is: 0.856 +/- 0.003\n",
      "The mean score using nested cross-validation with learning_rate = 0.1 and max_leaf_nodes = 10 is: 0.870 +/- 0.001\n",
      "The mean score using nested cross-validation with learning_rate = 0.1 and max_leaf_nodes = 30 is: 0.874 +/- 0.002\n",
      "The mean score using nested cross-validation with learning_rate = 1 and max_leaf_nodes = 3 is: 0.870 +/- 0.003\n",
      "The mean score using nested cross-validation with learning_rate = 1 and max_leaf_nodes = 10 is: 0.867 +/- 0.002\n",
      "The mean score using nested cross-validation with learning_rate = 1 and max_leaf_nodes = 30 is: 0.860 +/- 0.005\n",
      "The mean score using nested cross-validation with learning_rate = 10 and max_leaf_nodes = 3 is: 0.281 +/- 0.004\n",
      "The mean score using nested cross-validation with learning_rate = 10 and max_leaf_nodes = 10 is: 0.761 +/- 0.045\n",
      "The mean score using nested cross-validation with learning_rate = 10 and max_leaf_nodes = 30 is: 0.616 +/- 0.179\n"
     ]
    }
   ],
   "source": [
    "# Write your code here\n",
    "\n",
    "# from pprint import pprint\n",
    "# pprint([a for a in model.get_params().keys()])\n",
    "\n",
    "from sklearn.model_selection import cross_val_score, KFold\n",
    "\n",
    "learning_rate_sequence = [0.01, 0.1, 1, 10]\n",
    "max_leaf_nodes_sequence = [3, 10, 30]\n",
    "\n",
    "for lr in learning_rate_sequence:\n",
    "    for mln in max_leaf_nodes_sequence:\n",
    "        model.set_params(classifier__learning_rate=lr)\n",
    "        model.set_params(classifier__max_leaf_nodes=mln)\n",
    "\n",
    "        test_score = cross_val_score(model, data, target)\n",
    "        print(f\"The mean score using nested cross-validation with learning_rate = {lr} and max_leaf_nodes = {mln} is: {test_score.mean():.3f} +/- {test_score.std():.3f}\")          \n",
    "\n"
   ]
  },
  {
   "cell_type": "code",
   "execution_count": 21,
   "metadata": {},
   "outputs": [
    {
     "output_type": "stream",
     "name": "stdout",
     "text": [
      "Evaluating model with learning rate 0.010 and max leaf nodes 3... score: 0.789\n",
      "Found new best model with score 0.789!\n",
      "Evaluating model with learning rate 0.010 and max leaf nodes 10... score: 0.813\n",
      "Found new best model with score 0.813!\n",
      "Evaluating model with learning rate 0.010 and max leaf nodes 30... score: 0.842\n",
      "Found new best model with score 0.842!\n",
      "Evaluating model with learning rate 0.100 and max leaf nodes 3... score: 0.847\n",
      "Found new best model with score 0.847!\n",
      "Evaluating model with learning rate 0.100 and max leaf nodes 10... score: 0.859\n",
      "Found new best model with score 0.859!\n",
      "Evaluating model with learning rate 0.100 and max leaf nodes 30... score: 0.857\n",
      "Evaluating model with learning rate 1.000 and max leaf nodes 3... score: 0.852\n",
      "Evaluating model with learning rate 1.000 and max leaf nodes 10... score: 0.833\n",
      "Evaluating model with learning rate 1.000 and max leaf nodes 30... score: 0.828\n",
      "Evaluating model with learning rate 10.000 and max leaf nodes 3... score: 0.288\n",
      "Evaluating model with learning rate 10.000 and max leaf nodes 10... score: 0.480\n",
      "Evaluating model with learning rate 10.000 and max leaf nodes 30... score: 0.639\n",
      "The best accuracy obtained is 0.859\n",
      "The best parameters found are:\n",
      " {'learning-rate': 0.1, 'max leaf nodes': 10}\n"
     ]
    }
   ],
   "source": [
    "## SOLUTION\n",
    "\n",
    "from sklearn.model_selection import cross_val_score\n",
    "\n",
    "learning_rate = [0.01, 0.1, 1, 10]\n",
    "max_leaf_nodes = [3, 10, 30]\n",
    "\n",
    "best_score = 0\n",
    "best_params = {}\n",
    "for lr in learning_rate:\n",
    "    for mln in max_leaf_nodes:\n",
    "        print(f\"Evaluating model with learning rate {lr:.3f}\"\n",
    "              f\" and max leaf nodes {mln}... \", end=\"\")\n",
    "        model.set_params(\n",
    "            classifier__learning_rate=lr,\n",
    "            classifier__max_leaf_nodes=mln\n",
    "        )\n",
    "        scores = cross_val_score(model, data_train, target_train, cv=2)\n",
    "        mean_score = scores.mean()\n",
    "        print(f\"score: {mean_score:.3f}\")\n",
    "        if mean_score > best_score:\n",
    "            best_score = mean_score\n",
    "            best_params = {'learning-rate': lr, 'max leaf nodes': mln}\n",
    "            print(f\"Found new best model with score {best_score:.3f}!\")\n",
    "\n",
    "print(f\"The best accuracy obtained is {best_score:.3f}\")\n",
    "print(f\"The best parameters found are:\\n {best_params}\")"
   ]
  }
 ],
 "metadata": {
  "kernelspec": {
   "name": "python3",
   "display_name": "Python 3.9.1 64-bit"
  },
  "interpreter": {
   "hash": "effe5469eba6e2b1ac8a7bf67c428998281de374b9fe83a2f672f89c7077779b"
  }
 },
 "nbformat": 4,
 "nbformat_minor": 5
}
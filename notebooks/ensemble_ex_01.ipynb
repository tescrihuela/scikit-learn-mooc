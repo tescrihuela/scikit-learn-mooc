{
 "cells": [
  {
   "cell_type": "markdown",
   "metadata": {},
   "source": [
    "# 📝 Exercise M6.01\n",
    "\n",
    "The aim of this notebook is to investigate if we can tune the hyperparameters\n",
    "of a bagging regressor and evaluate the gain obtained.\n",
    "\n",
    "We will load the California housing dataset and split it into a training and\n",
    "a testing set."
   ]
  },
  {
   "cell_type": "code",
   "execution_count": 2,
   "metadata": {},
   "outputs": [
    {
     "output_type": "execute_result",
     "data": {
      "text/plain": [
       "       MedInc  HouseAge  AveRooms  AveBedrms  Population  AveOccup  Latitude  \\\n",
       "12485  1.2450      42.0  3.624254   1.125249       761.0  1.512922     38.58   \n",
       "7356   2.4432      24.0  3.399168   1.054054      2480.0  5.155925     33.96   \n",
       "12392  2.4659      17.0  9.747727   2.029545       958.0  2.177273     33.74   \n",
       "5210   1.5114      39.0  4.599278   1.018051       975.0  3.519856     33.92   \n",
       "7421   3.0550      41.0  4.119891   1.089918      1690.0  4.604905     33.96   \n",
       "...       ...       ...       ...        ...         ...       ...       ...   \n",
       "13123  4.4125      20.0  6.000000   1.045662       712.0  3.251142     38.27   \n",
       "19648  2.9135      27.0  5.349282   0.933014       647.0  3.095694     37.48   \n",
       "9845   3.1977      31.0  3.641221   0.941476       704.0  1.791349     36.58   \n",
       "10799  5.6315      34.0  4.540598   1.064103      1052.0  2.247863     33.62   \n",
       "2732   1.3882      15.0  3.929530   1.100671      1024.0  3.436242     32.80   \n",
       "\n",
       "       Longitude  \n",
       "12485    -121.48  \n",
       "7356     -118.16  \n",
       "12392    -116.41  \n",
       "5210     -118.28  \n",
       "7421     -118.20  \n",
       "...          ...  \n",
       "13123    -121.26  \n",
       "19648    -120.89  \n",
       "9845     -121.90  \n",
       "10799    -117.93  \n",
       "2732     -115.56  \n",
       "\n",
       "[10320 rows x 8 columns]"
      ],
      "text/html": "<div>\n<style scoped>\n    .dataframe tbody tr th:only-of-type {\n        vertical-align: middle;\n    }\n\n    .dataframe tbody tr th {\n        vertical-align: top;\n    }\n\n    .dataframe thead th {\n        text-align: right;\n    }\n</style>\n<table border=\"1\" class=\"dataframe\">\n  <thead>\n    <tr style=\"text-align: right;\">\n      <th></th>\n      <th>MedInc</th>\n      <th>HouseAge</th>\n      <th>AveRooms</th>\n      <th>AveBedrms</th>\n      <th>Population</th>\n      <th>AveOccup</th>\n      <th>Latitude</th>\n      <th>Longitude</th>\n    </tr>\n  </thead>\n  <tbody>\n    <tr>\n      <th>12485</th>\n      <td>1.2450</td>\n      <td>42.0</td>\n      <td>3.624254</td>\n      <td>1.125249</td>\n      <td>761.0</td>\n      <td>1.512922</td>\n      <td>38.58</td>\n      <td>-121.48</td>\n    </tr>\n    <tr>\n      <th>7356</th>\n      <td>2.4432</td>\n      <td>24.0</td>\n      <td>3.399168</td>\n      <td>1.054054</td>\n      <td>2480.0</td>\n      <td>5.155925</td>\n      <td>33.96</td>\n      <td>-118.16</td>\n    </tr>\n    <tr>\n      <th>12392</th>\n      <td>2.4659</td>\n      <td>17.0</td>\n      <td>9.747727</td>\n      <td>2.029545</td>\n      <td>958.0</td>\n      <td>2.177273</td>\n      <td>33.74</td>\n      <td>-116.41</td>\n    </tr>\n    <tr>\n      <th>5210</th>\n      <td>1.5114</td>\n      <td>39.0</td>\n      <td>4.599278</td>\n      <td>1.018051</td>\n      <td>975.0</td>\n      <td>3.519856</td>\n      <td>33.92</td>\n      <td>-118.28</td>\n    </tr>\n    <tr>\n      <th>7421</th>\n      <td>3.0550</td>\n      <td>41.0</td>\n      <td>4.119891</td>\n      <td>1.089918</td>\n      <td>1690.0</td>\n      <td>4.604905</td>\n      <td>33.96</td>\n      <td>-118.20</td>\n    </tr>\n    <tr>\n      <th>...</th>\n      <td>...</td>\n      <td>...</td>\n      <td>...</td>\n      <td>...</td>\n      <td>...</td>\n      <td>...</td>\n      <td>...</td>\n      <td>...</td>\n    </tr>\n    <tr>\n      <th>13123</th>\n      <td>4.4125</td>\n      <td>20.0</td>\n      <td>6.000000</td>\n      <td>1.045662</td>\n      <td>712.0</td>\n      <td>3.251142</td>\n      <td>38.27</td>\n      <td>-121.26</td>\n    </tr>\n    <tr>\n      <th>19648</th>\n      <td>2.9135</td>\n      <td>27.0</td>\n      <td>5.349282</td>\n      <td>0.933014</td>\n      <td>647.0</td>\n      <td>3.095694</td>\n      <td>37.48</td>\n      <td>-120.89</td>\n    </tr>\n    <tr>\n      <th>9845</th>\n      <td>3.1977</td>\n      <td>31.0</td>\n      <td>3.641221</td>\n      <td>0.941476</td>\n      <td>704.0</td>\n      <td>1.791349</td>\n      <td>36.58</td>\n      <td>-121.90</td>\n    </tr>\n    <tr>\n      <th>10799</th>\n      <td>5.6315</td>\n      <td>34.0</td>\n      <td>4.540598</td>\n      <td>1.064103</td>\n      <td>1052.0</td>\n      <td>2.247863</td>\n      <td>33.62</td>\n      <td>-117.93</td>\n    </tr>\n    <tr>\n      <th>2732</th>\n      <td>1.3882</td>\n      <td>15.0</td>\n      <td>3.929530</td>\n      <td>1.100671</td>\n      <td>1024.0</td>\n      <td>3.436242</td>\n      <td>32.80</td>\n      <td>-115.56</td>\n    </tr>\n  </tbody>\n</table>\n<p>10320 rows × 8 columns</p>\n</div>"
     },
     "metadata": {},
     "execution_count": 2
    }
   ],
   "source": [
    "from sklearn.datasets import fetch_california_housing\n",
    "from sklearn.model_selection import train_test_split\n",
    "\n",
    "data, target = fetch_california_housing(as_frame=True, return_X_y=True)\n",
    "target *= 100  # rescale the target in k$\n",
    "data_train, data_test, target_train, target_test = train_test_split(\n",
    "    data, target, random_state=0, test_size=0.5)\n",
    "data_train"
   ]
  },
  {
   "cell_type": "markdown",
   "metadata": {},
   "source": [
    "<div class=\"admonition note alert alert-info\">\n",
    "<p class=\"first admonition-title\" style=\"font-weight: bold;\">Note</p>\n",
    "<p class=\"last\">If you want a deeper overview regarding this dataset, you can refer to the\n",
    "Appendix - Datasets description section at the end of this MOOC.</p>\n",
    "</div>"
   ]
  },
  {
   "cell_type": "markdown",
   "metadata": {},
   "source": [
    "Create a `BaggingRegressor` and provide a `DecisionTreeRegressor`\n",
    "to its parameter `base_estimator`. Train the regressor and evaluate its\n",
    "statistical performance on the testing set using the mean absolute error."
   ]
  },
  {
   "cell_type": "code",
   "execution_count": 4,
   "metadata": {},
   "outputs": [
    {
     "output_type": "stream",
     "name": "stdout",
     "text": [
      "Basic mean absolute error of the bagging regressor:\n36.53 k$\n"
     ]
    }
   ],
   "source": [
    "# Write your code here.\n",
    "\n",
    "from sklearn.tree import DecisionTreeRegressor\n",
    "from sklearn.ensemble import BaggingRegressor\n",
    "from sklearn.metrics import mean_absolute_error\n",
    "\n",
    "bagging = BaggingRegressor(\n",
    "    base_estimator=DecisionTreeRegressor(),\n",
    "    n_jobs=2\n",
    ")\n",
    "bagging.fit(data_train, target_train)\n",
    "target_predicted = bagging.predict(data_test)\n",
    "print(f\"Basic mean absolute error of the bagging regressor:\\n\"\n",
    "      f\"{mean_absolute_error(target_test, target_predicted):.2f} k$\")\n"
   ]
  },
  {
   "cell_type": "markdown",
   "metadata": {},
   "source": [
    "Now, create a `RandomizedSearchCV` instance using the previous model and\n",
    "tune the important parameters of the bagging regressor. Find the best\n",
    "parameters  and check if you are able to find a set of parameters that\n",
    "improve the default regressor still using the mean absolute error as a\n",
    "metric.\n",
    "\n",
    "<div class=\"admonition tip alert alert-warning\">\n",
    "<p class=\"first admonition-title\" style=\"font-weight: bold;\">Tip</p>\n",
    "<p class=\"last\">You can list the bagging regressor's parameters using the <tt class=\"docutils literal\">get_params</tt>\n",
    "method.</p>\n",
    "</div>"
   ]
  },
  {
   "cell_type": "code",
   "execution_count": 10,
   "metadata": {},
   "outputs": [
    {
     "output_type": "execute_result",
     "data": {
      "text/plain": [
       "   param_n_estimators param_max_samples param_max_features  \\\n",
       "9                  28               0.8                0.8   \n",
       "10                 17               1.0                0.8   \n",
       "2                  22               0.8                1.0   \n",
       "0                  24               1.0                1.0   \n",
       "12                 13               1.0                0.8   \n",
       "7                  17               0.5                0.8   \n",
       "11                 28               1.0                0.8   \n",
       "1                  24               1.0                0.5   \n",
       "3                  21               0.8                0.5   \n",
       "4                  25               0.8                0.5   \n",
       "16                 26               0.8                0.5   \n",
       "15                 15               0.8                1.0   \n",
       "14                 20               0.5                0.5   \n",
       "17                 15               0.8                0.5   \n",
       "18                 23               0.8                0.8   \n",
       "8                  26               0.8                0.8   \n",
       "19                 11               1.0                0.5   \n",
       "13                 22               0.8                0.5   \n",
       "5                  20               0.8                1.0   \n",
       "6                  21               0.8                0.8   \n",
       "\n",
       "   param_base_estimator__max_depth  mean_test_score  std_test_score  \\\n",
       "9                                9        38.163799        1.323167   \n",
       "10                               9        39.348485        1.438830   \n",
       "2                                9        39.476948        0.896986   \n",
       "0                                9        39.611910        0.966389   \n",
       "12                               8        40.811257        1.269885   \n",
       "7                                7        42.767927        1.064365   \n",
       "11                               7        42.810864        1.171510   \n",
       "1                                9        44.088563        1.648999   \n",
       "3                                8        45.855000        1.482286   \n",
       "4                                8        46.088102        2.077267   \n",
       "16                               7        46.951836        1.434455   \n",
       "15                               5        48.146632        1.319662   \n",
       "14                               7        49.941226        3.051023   \n",
       "17                               5        50.975976        1.560278   \n",
       "18                               4        51.963148        1.010972   \n",
       "8                                4        52.824082        0.266547   \n",
       "19                               4        55.732651        0.781340   \n",
       "13                               4        56.303482        1.075971   \n",
       "5                                3        56.659673        0.969241   \n",
       "6                                3        57.988521        1.642695   \n",
       "\n",
       "    rank_test_score  \n",
       "9                 1  \n",
       "10                2  \n",
       "2                 3  \n",
       "0                 4  \n",
       "12                5  \n",
       "7                 6  \n",
       "11                7  \n",
       "1                 8  \n",
       "3                 9  \n",
       "4                10  \n",
       "16               11  \n",
       "15               12  \n",
       "14               13  \n",
       "17               14  \n",
       "18               15  \n",
       "8                16  \n",
       "19               17  \n",
       "13               18  \n",
       "5                19  \n",
       "6                20  "
      ],
      "text/html": "<div>\n<style scoped>\n    .dataframe tbody tr th:only-of-type {\n        vertical-align: middle;\n    }\n\n    .dataframe tbody tr th {\n        vertical-align: top;\n    }\n\n    .dataframe thead th {\n        text-align: right;\n    }\n</style>\n<table border=\"1\" class=\"dataframe\">\n  <thead>\n    <tr style=\"text-align: right;\">\n      <th></th>\n      <th>param_n_estimators</th>\n      <th>param_max_samples</th>\n      <th>param_max_features</th>\n      <th>param_base_estimator__max_depth</th>\n      <th>mean_test_score</th>\n      <th>std_test_score</th>\n      <th>rank_test_score</th>\n    </tr>\n  </thead>\n  <tbody>\n    <tr>\n      <th>9</th>\n      <td>28</td>\n      <td>0.8</td>\n      <td>0.8</td>\n      <td>9</td>\n      <td>38.163799</td>\n      <td>1.323167</td>\n      <td>1</td>\n    </tr>\n    <tr>\n      <th>10</th>\n      <td>17</td>\n      <td>1.0</td>\n      <td>0.8</td>\n      <td>9</td>\n      <td>39.348485</td>\n      <td>1.438830</td>\n      <td>2</td>\n    </tr>\n    <tr>\n      <th>2</th>\n      <td>22</td>\n      <td>0.8</td>\n      <td>1.0</td>\n      <td>9</td>\n      <td>39.476948</td>\n      <td>0.896986</td>\n      <td>3</td>\n    </tr>\n    <tr>\n      <th>0</th>\n      <td>24</td>\n      <td>1.0</td>\n      <td>1.0</td>\n      <td>9</td>\n      <td>39.611910</td>\n      <td>0.966389</td>\n      <td>4</td>\n    </tr>\n    <tr>\n      <th>12</th>\n      <td>13</td>\n      <td>1.0</td>\n      <td>0.8</td>\n      <td>8</td>\n      <td>40.811257</td>\n      <td>1.269885</td>\n      <td>5</td>\n    </tr>\n    <tr>\n      <th>7</th>\n      <td>17</td>\n      <td>0.5</td>\n      <td>0.8</td>\n      <td>7</td>\n      <td>42.767927</td>\n      <td>1.064365</td>\n      <td>6</td>\n    </tr>\n    <tr>\n      <th>11</th>\n      <td>28</td>\n      <td>1.0</td>\n      <td>0.8</td>\n      <td>7</td>\n      <td>42.810864</td>\n      <td>1.171510</td>\n      <td>7</td>\n    </tr>\n    <tr>\n      <th>1</th>\n      <td>24</td>\n      <td>1.0</td>\n      <td>0.5</td>\n      <td>9</td>\n      <td>44.088563</td>\n      <td>1.648999</td>\n      <td>8</td>\n    </tr>\n    <tr>\n      <th>3</th>\n      <td>21</td>\n      <td>0.8</td>\n      <td>0.5</td>\n      <td>8</td>\n      <td>45.855000</td>\n      <td>1.482286</td>\n      <td>9</td>\n    </tr>\n    <tr>\n      <th>4</th>\n      <td>25</td>\n      <td>0.8</td>\n      <td>0.5</td>\n      <td>8</td>\n      <td>46.088102</td>\n      <td>2.077267</td>\n      <td>10</td>\n    </tr>\n    <tr>\n      <th>16</th>\n      <td>26</td>\n      <td>0.8</td>\n      <td>0.5</td>\n      <td>7</td>\n      <td>46.951836</td>\n      <td>1.434455</td>\n      <td>11</td>\n    </tr>\n    <tr>\n      <th>15</th>\n      <td>15</td>\n      <td>0.8</td>\n      <td>1.0</td>\n      <td>5</td>\n      <td>48.146632</td>\n      <td>1.319662</td>\n      <td>12</td>\n    </tr>\n    <tr>\n      <th>14</th>\n      <td>20</td>\n      <td>0.5</td>\n      <td>0.5</td>\n      <td>7</td>\n      <td>49.941226</td>\n      <td>3.051023</td>\n      <td>13</td>\n    </tr>\n    <tr>\n      <th>17</th>\n      <td>15</td>\n      <td>0.8</td>\n      <td>0.5</td>\n      <td>5</td>\n      <td>50.975976</td>\n      <td>1.560278</td>\n      <td>14</td>\n    </tr>\n    <tr>\n      <th>18</th>\n      <td>23</td>\n      <td>0.8</td>\n      <td>0.8</td>\n      <td>4</td>\n      <td>51.963148</td>\n      <td>1.010972</td>\n      <td>15</td>\n    </tr>\n    <tr>\n      <th>8</th>\n      <td>26</td>\n      <td>0.8</td>\n      <td>0.8</td>\n      <td>4</td>\n      <td>52.824082</td>\n      <td>0.266547</td>\n      <td>16</td>\n    </tr>\n    <tr>\n      <th>19</th>\n      <td>11</td>\n      <td>1.0</td>\n      <td>0.5</td>\n      <td>4</td>\n      <td>55.732651</td>\n      <td>0.781340</td>\n      <td>17</td>\n    </tr>\n    <tr>\n      <th>13</th>\n      <td>22</td>\n      <td>0.8</td>\n      <td>0.5</td>\n      <td>4</td>\n      <td>56.303482</td>\n      <td>1.075971</td>\n      <td>18</td>\n    </tr>\n    <tr>\n      <th>5</th>\n      <td>20</td>\n      <td>0.8</td>\n      <td>1.0</td>\n      <td>3</td>\n      <td>56.659673</td>\n      <td>0.969241</td>\n      <td>19</td>\n    </tr>\n    <tr>\n      <th>6</th>\n      <td>21</td>\n      <td>0.8</td>\n      <td>0.8</td>\n      <td>3</td>\n      <td>57.988521</td>\n      <td>1.642695</td>\n      <td>20</td>\n    </tr>\n  </tbody>\n</table>\n</div>"
     },
     "metadata": {},
     "execution_count": 10
    }
   ],
   "source": [
    "# Write your code here.\n",
    "\n",
    "from scipy.stats import randint\n",
    "from sklearn.model_selection import RandomizedSearchCV\n",
    "import pandas as pd \n",
    "\n",
    "param_grid = {\n",
    "    \"n_estimators\": randint(10, 30),\n",
    "    \"max_samples\": [0.5, 0.8, 1.0],\n",
    "    \"max_features\": [0.5, 0.8, 1.0],\n",
    "    \"base_estimator__max_depth\": randint(3, 10),\n",
    "}\n",
    "search = RandomizedSearchCV(\n",
    "    bagging, param_grid, n_iter=20, scoring=\"neg_mean_absolute_error\"\n",
    ")\n",
    "_ = search.fit(data_train, target_train)\n",
    "\n",
    "columns = [f\"param_{name}\" for name in param_grid.keys()]\n",
    "columns += [\"mean_test_score\", \"std_test_score\", \"rank_test_score\"]\n",
    "cv_results = pd.DataFrame(search.cv_results_)\n",
    "cv_results = cv_results[columns].sort_values(by=\"rank_test_score\")\n",
    "cv_results[\"mean_test_score\"] = -cv_results[\"mean_test_score\"]\n",
    "cv_results"
   ]
  },
  {
   "cell_type": "code",
   "execution_count": 11,
   "metadata": {},
   "outputs": [
    {
     "output_type": "stream",
     "name": "stdout",
     "text": [
      "Mean absolute error after tuning of the bagging regressor:\n38.03 k$\n"
     ]
    }
   ],
   "source": [
    "target_predicted = search.predict(data_test)\n",
    "print(f\"Mean absolute error after tuning of the bagging regressor:\\n\"\n",
    "      f\"{mean_absolute_error(target_test, target_predicted):.2f} k$\")"
   ]
  },
  {
   "cell_type": "markdown",
   "metadata": {},
   "source": [
    "We see that the bagging regressor provides a predictor in which fine tuning\n",
    "is not as important as in the case of fitting a single decision tree."
   ]
  }
 ],
 "metadata": {
  "jupytext": {
   "cell_metadata_filter": "-all",
   "main_language": "python",
   "notebook_metadata_filter": "-all"
  },
  "kernelspec": {
   "name": "python3",
   "display_name": "Python 3.9.1 64-bit ('Python39')"
  },
  "interpreter": {
   "hash": "effe5469eba6e2b1ac8a7bf67c428998281de374b9fe83a2f672f89c7077779b"
  }
 },
 "nbformat": 4,
 "nbformat_minor": 5
}
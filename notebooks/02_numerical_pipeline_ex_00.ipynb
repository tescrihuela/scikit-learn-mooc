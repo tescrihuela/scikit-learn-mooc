{
 "cells": [
  {
   "cell_type": "markdown",
   "metadata": {},
   "source": [
    "# 📝 Exercise M1.02\n",
    "\n",
    "The goal of this exercise is to fit a similar model as in the previous\n",
    "notebook to get familiar with manipulating scikit-learn objects and in\n",
    "particular the `.fit/.predict/.score` API."
   ]
  },
  {
   "cell_type": "markdown",
   "metadata": {},
   "source": [
    "Let's load the adult census dataset with only numerical variables"
   ]
  },
  {
   "cell_type": "code",
   "execution_count": 1,
   "metadata": {},
   "outputs": [],
   "source": [
    "import pandas as pd\n",
    "adult_census = pd.read_csv(\"../datasets/adult-census-numeric.csv\")\n",
    "data = adult_census.drop(columns=\"class\")\n",
    "target = adult_census[\"class\"]"
   ]
  },
  {
   "cell_type": "markdown",
   "metadata": {},
   "source": [
    "In the previous notebook we used `model = KNeighborsClassifier()`. All\n",
    "scikit-learn models can be created without arguments, which means that you\n",
    "don't need to understand the details of the model to use it in scikit-learn.\n",
    "\n",
    "One of the `KNeighborsClassifier` parameters is `n_neighbors`. It controls\n",
    "the number of neighbors we are going to use to make a prediction for a new\n",
    "data point.\n",
    "\n",
    "What is the default value of the `n_neighbors` parameter? Hint: Look at the\n",
    "help inside your notebook `KNeighborsClassifier?` or on the [scikit-learn\n",
    "website](https://scikit-learn.org/stable/modules/generated/sklearn.neighbors.KNeighborsClassifier.html)"
   ]
  },
  {
   "cell_type": "markdown",
   "metadata": {},
   "source": [
    "Create a `KNeighborsClassifier` model with `n_neighbors=50`"
   ]
  },
  {
   "cell_type": "code",
   "execution_count": 4,
   "metadata": {},
   "outputs": [],
   "source": [
    "from sklearn.neighbors import KNeighborsClassifier\n",
    "\n",
    "# help(KNeighborsClassifier)\n",
    "model = KNeighborsClassifier(n_neighbors = 50)"
   ]
  },
  {
   "cell_type": "markdown",
   "metadata": {},
   "source": [
    "Fit this model on the data and target loaded above"
   ]
  },
  {
   "cell_type": "code",
   "execution_count": 5,
   "metadata": {},
   "outputs": [
    {
     "output_type": "execute_result",
     "data": {
      "text/plain": [
       "KNeighborsClassifier(n_neighbors=50)"
      ]
     },
     "metadata": {},
     "execution_count": 5
    }
   ],
   "source": [
    "model.fit(data, target)"
   ]
  },
  {
   "cell_type": "markdown",
   "metadata": {},
   "source": [
    "Use your model to make predictions on the first 10 data points inside the\n",
    "data. Do they match the actual target values?"
   ]
  },
  {
   "cell_type": "code",
   "execution_count": 10,
   "metadata": {},
   "outputs": [
    {
     "output_type": "stream",
     "name": "stdout",
     "text": [
      "[' <=50K' ' <=50K' ' <=50K' ' <=50K' ' <=50K' ' <=50K' ' <=50K' ' >50K'\n ' <=50K' ' <=50K']\n0     <=50K\n1     <=50K\n2     <=50K\n3     <=50K\n4     <=50K\n5     <=50K\n6     <=50K\n7      >50K\n8     <=50K\n9      >50K\nName: class, dtype: object\n0     True\n1     True\n2     True\n3     True\n4     True\n5     True\n6     True\n7     True\n8     True\n9    False\nName: class, dtype: bool\nScore de 9 / 10\n"
     ]
    }
   ],
   "source": [
    "predicted = model.predict(data[:10])\n",
    "print(predicted)\n",
    "print(target[:10])\n",
    "print(f\"{predicted == target[:10]}\")\n",
    "print(f\"Score de {(predicted == target[:10]).sum()} / 10\")"
   ]
  },
  {
   "cell_type": "markdown",
   "metadata": {},
   "source": [
    "Compute the accuracy on the training data."
   ]
  },
  {
   "cell_type": "code",
   "execution_count": 12,
   "metadata": {},
   "outputs": [
    {
     "output_type": "execute_result",
     "data": {
      "text/plain": [
       "0.8289867683566657"
      ]
     },
     "metadata": {},
     "execution_count": 12
    }
   ],
   "source": [
    "model.score(data, target)"
   ]
  },
  {
   "cell_type": "markdown",
   "metadata": {},
   "source": [
    "Now load the test data from `\"../datasets/adult-census-numeric-test.csv\"` and\n",
    "compute the accuracy on the test data."
   ]
  },
  {
   "cell_type": "code",
   "execution_count": 15,
   "metadata": {},
   "outputs": [
    {
     "output_type": "stream",
     "name": "stdout",
     "text": [
      "       age  capital-gain  capital-loss  hours-per-week   class\n0       41             0             0              92   <=50K\n1       48             0             0              40   <=50K\n2       60             0             0              25   <=50K\n3       37             0             0              45   <=50K\n4       73          3273             0              40   <=50K\n...    ...           ...           ...             ...     ...\n39068   45             0             0              40   <=50K\n39069   47             0             0              60   <=50K\n39070   29             0          1485              60    >50K\n39071   29             0             0              40   <=50K\n39072   46         15024             0              55    >50K\n\n[39073 rows x 5 columns]\n      age  capital-gain  capital-loss  hours-per-week   class\n0      20             0             0              35   <=50K\n1      53             0             0              72    >50K\n2      41             0             0              50    >50K\n3      20             0             0              40   <=50K\n4      25             0             0              40   <=50K\n...   ...           ...           ...             ...     ...\n9764   30             0             0              49   <=50K\n9765   57             0             0              50    >50K\n9766   63             0             0              35   <=50K\n9767   59             0             0              40   <=50K\n9768   42             0             0              35   <=50K\n\n[9769 rows x 5 columns]\n"
     ]
    },
    {
     "output_type": "execute_result",
     "data": {
      "text/plain": [
       "0.8182004299314157"
      ]
     },
     "metadata": {},
     "execution_count": 15
    }
   ],
   "source": [
    "test_sample = pd.read_csv(\"../datasets/adult-census-numeric-test.csv\")\n",
    "print(adult_census)\n",
    "print(test_sample)\n",
    "test_data = test_sample.drop(columns=\"class\")\n",
    "test_target = test_sample[\"class\"]\n",
    "model.score(test_data, test_target)"
   ]
  }
 ],
 "metadata": {
  "kernelspec": {
   "name": "python391jvsc74a57bd0effe5469eba6e2b1ac8a7bf67c428998281de374b9fe83a2f672f89c7077779b",
   "display_name": "Python 3.9.1 64-bit ('Python39')"
  },
  "metadata": {
   "interpreter": {
    "hash": "effe5469eba6e2b1ac8a7bf67c428998281de374b9fe83a2f672f89c7077779b"
   }
  }
 },
 "nbformat": 4,
 "nbformat_minor": 5
}
{
 "cells": [
  {
   "cell_type": "markdown",
   "metadata": {},
   "source": [
    "# 📝 Exercise M1.03\n",
    "\n",
    "The goal of this exercise is to compare the statistical performance of our\n",
    "classifier (81% accuracy) to some baseline classifiers that would ignore the\n",
    "input data and instead make constant predictions.\n",
    "\n",
    "- What would be the score of a model that always predicts `' >50K'`?\n",
    "- What would be the score of a model that always predicts `' <=50K'`?\n",
    "- Is 81% or 82% accuracy a good score for this problem?\n",
    "\n",
    "Use a `DummyClassifier` and do a train-test split to evaluate\n",
    "its accuracy on the test set. This\n",
    "[link](https://scikit-learn.org/stable/modules/model_evaluation.html#dummy-estimators)\n",
    "shows a few examples of how to evaluate the statistical performance of these\n",
    "baseline models."
   ]
  },
  {
   "cell_type": "code",
   "execution_count": 1,
   "metadata": {},
   "outputs": [],
   "source": [
    "import pandas as pd\n",
    "\n",
    "adult_census = pd.read_csv(\"../datasets/adult-census.csv\")"
   ]
  },
  {
   "cell_type": "markdown",
   "metadata": {},
   "source": [
    "We will first split our dataset to have the target separated from the data\n",
    "used to train our predictive model."
   ]
  },
  {
   "cell_type": "code",
   "execution_count": 2,
   "metadata": {},
   "outputs": [],
   "source": [
    "target_name = \"class\"\n",
    "target = adult_census[target_name]\n",
    "data = adult_census.drop(columns=target_name)"
   ]
  },
  {
   "cell_type": "markdown",
   "metadata": {},
   "source": [
    "We start by selecting only the numerical columns as seen in the previous\n",
    "notebook."
   ]
  },
  {
   "cell_type": "code",
   "execution_count": 44,
   "metadata": {},
   "outputs": [],
   "source": [
    "numerical_columns = [\"age\", \"capital-gain\", \"capital-loss\", \"hours-per-week\"]\n",
    "\n",
    "data_numeric = data[numerical_columns]"
   ]
  },
  {
   "cell_type": "markdown",
   "metadata": {},
   "source": [
    "Split the dataset into a train and test sets."
   ]
  },
  {
   "cell_type": "code",
   "execution_count": 11,
   "metadata": {
    "lines_to_next_cell": 2
   },
   "outputs": [
    {
     "output_type": "stream",
     "name": "stdout",
     "text": [
      "       age  capital-gain  capital-loss  hours-per-week\n40391   19             0             0              10\n43087   46             0             0              60\n1415    43             0             0              35\n27848   56             0             0              40\n4751    23             0             0              30\n...    ...           ...           ...             ...\n23452   24             0             0               8\n23775   31             0             0              40\n37135   50         15024             0              40\n27098   35          5013             0              70\n48483   28             0             0              45\n\n[43957 rows x 4 columns]\n       age  capital-gain  capital-loss  hours-per-week\n21601   28             0             0              40\n45922   46             0             0              36\n29979   37             0             0              40\n37053   71             0             0              75\n18094   22             0             0              35\n...    ...           ...           ...             ...\n6037    39             0             0              60\n42640   33             0             0              40\n16924   36          5178             0              50\n22941   43             0             0              40\n46267   44             0             0              40\n\n[4885 rows x 4 columns]\n21601     <=50K\n45922     <=50K\n29979     <=50K\n37053     <=50K\n18094     <=50K\n          ...  \n6037       >50K\n42640     <=50K\n16924      >50K\n22941      >50K\n46267     <=50K\nName: class, Length: 4885, dtype: object\n"
     ]
    }
   ],
   "source": [
    "from sklearn.model_selection import train_test_split\n",
    "\n",
    "data_train, data_test, target_train, target_test = train_test_split(data_numeric, target, test_size=0.1, random_state=20)\n",
    "print(data_train)\n",
    "print(data_test)\n",
    "print(target_test)"
   ]
  },
  {
   "cell_type": "markdown",
   "metadata": {},
   "source": [
    "Use a `DummyClassifier` such that the resulting classifier will always\n",
    "predict the class `' >50K'`. What is the accuracy score on the test set?\n",
    "Repeat the experiment by always predicting the class `' <=50K'`.\n",
    "\n",
    "Hint: you can refer to the parameter `strategy` of the `DummyClassifier`\n",
    "to achieve the desired behaviour."
   ]
  },
  {
   "cell_type": "code",
   "execution_count": 45,
   "metadata": {},
   "outputs": [
    {
     "output_type": "stream",
     "name": "stdout",
     "text": [
      " <=50K    3702\n >50K     1183\nName: class, dtype: int64\nIl y a dans le jeu de test 3702 lignes <=50K soit 75.8%\nIl y a dans le jeu de test 1183 lignes >50K soit 24.2%\n\nLe Dummy constant:<=50K donne un score de 0.758\nLe Dummy constant:>50K donne un score de 0.242\nLe Dummy most_frequent donne un score de 0.758\nLe Dummy stratified donne un score de 0.631\nLe Dummy prior donne un score de 0.758\nLe Dummy uniform donne un score de 0.499\n\nLa régression logistique donne un score de 0.803\n"
     ]
    }
   ],
   "source": [
    "from sklearn.dummy import DummyClassifier\n",
    "from sklearn.linear_model import LogisticRegression\n",
    "\n",
    "# help(DummyClassifier)\n",
    "inf50K = DummyClassifier(strategy='constant', constant=\" <=50K\")\n",
    "sup50K = DummyClassifier(strategy='constant', constant=\" >50K\")\n",
    "most_frequent = DummyClassifier(strategy='most_frequent')\n",
    "stratified = DummyClassifier(strategy='stratified')\n",
    "prior = DummyClassifier(strategy='prior')\n",
    "uniform = DummyClassifier(strategy='uniform')\n",
    "model = LogisticRegression()\n",
    "\n",
    "inf50K.fit(data_train, target_train)\n",
    "sup50K.fit(data_train, target_train)\n",
    "most_frequent.fit(data_train, target_train)\n",
    "stratified.fit(data_train, target_train)\n",
    "prior.fit(data_train, target_train)\n",
    "uniform.fit(data_train, target_train)\n",
    "model.fit(data_train, target_train)\n",
    "\n",
    "# print(target_test.value_counts())\n",
    "print(f\"Il y a dans le jeu de test {(target_test == ' <=50K').sum()} lignes <=50K soit {(target_test == ' <=50K').sum() * 100 / target_test.shape[0]:.1f}%\")\n",
    "print(f\"Il y a dans le jeu de test {(target_test == ' >50K').sum()} lignes >50K soit {(target_test == ' >50K').sum() * 100 / target_test.shape[0]:.1f}%\")\n",
    "print()\n",
    "print(f\"Le Dummy constant:<=50K donne un score de {inf50K.score(data_test, target_test):.3f}\")\n",
    "print(f\"Le Dummy constant:>50K donne un score de {sup50K.score(data_test, target_test):.3f}\")\n",
    "print(f\"Le Dummy most_frequent donne un score de {most_frequent.score(data_test, target_test):.3f}\")\n",
    "print(f\"Le Dummy stratified donne un score de {stratified.score(data_test, target_test):.3f}\")\n",
    "print(f\"Le Dummy prior donne un score de {prior.score(data_test, target_test):.3f}\")\n",
    "print(f\"Le Dummy uniform donne un score de {uniform.score(data_test, target_test):.3f}\")\n",
    "print()\n",
    "print(f\"La régression logistique donne un score de {model.score(data_test, target_test):.3f}\")\n",
    "\n",
    "\n",
    "\n"
   ]
  }
 ],
 "metadata": {
  "kernelspec": {
   "name": "python391jvsc74a57bd0effe5469eba6e2b1ac8a7bf67c428998281de374b9fe83a2f672f89c7077779b",
   "display_name": "Python 3.9.1 64-bit ('Python39')"
  },
  "metadata": {
   "interpreter": {
    "hash": "effe5469eba6e2b1ac8a7bf67c428998281de374b9fe83a2f672f89c7077779b"
   }
  }
 },
 "nbformat": 4,
 "nbformat_minor": 5
}
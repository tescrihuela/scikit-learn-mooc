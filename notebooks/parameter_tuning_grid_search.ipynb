{
 "cells": [
  {
   "cell_type": "markdown",
   "metadata": {},
   "source": [
    "# Hyperparameter tuning by grid-search\n",
    "\n",
    "In the previous notebook, we saw that hyperparameters can affect the\n",
    "statistical performance of a model. In this notebook, we will show how to\n",
    "optimize hyperparameters using a grid-search approach."
   ]
  },
  {
   "cell_type": "markdown",
   "metadata": {},
   "source": [
    "## Our predictive model\n",
    "\n",
    "Let us reload the dataset as we did previously:"
   ]
  },
  {
   "cell_type": "code",
   "execution_count": 2,
   "metadata": {},
   "outputs": [],
   "source": [
    "from sklearn import set_config\n",
    "\n",
    "set_config(display=\"diagram\")"
   ]
  },
  {
   "cell_type": "code",
   "execution_count": 3,
   "metadata": {},
   "outputs": [],
   "source": [
    "import pandas as pd\n",
    "\n",
    "adult_census = pd.read_csv(\"../datasets/adult-census.csv\")"
   ]
  },
  {
   "cell_type": "markdown",
   "metadata": {},
   "source": [
    "We extract the column containing the target."
   ]
  },
  {
   "cell_type": "code",
   "execution_count": 4,
   "metadata": {},
   "outputs": [
    {
     "output_type": "execute_result",
     "data": {
      "text/plain": [
       "0         <=50K\n",
       "1         <=50K\n",
       "2          >50K\n",
       "3          >50K\n",
       "4         <=50K\n",
       "          ...  \n",
       "48837     <=50K\n",
       "48838      >50K\n",
       "48839     <=50K\n",
       "48840     <=50K\n",
       "48841      >50K\n",
       "Name: class, Length: 48842, dtype: object"
      ]
     },
     "metadata": {},
     "execution_count": 4
    }
   ],
   "source": [
    "target_name = \"class\"\n",
    "target = adult_census[target_name]\n",
    "target"
   ]
  },
  {
   "cell_type": "markdown",
   "metadata": {},
   "source": [
    "We drop from our data the target and the `\"education-num\"` column which\n",
    "duplicates the information from the `\"education\"` column."
   ]
  },
  {
   "cell_type": "code",
   "execution_count": 5,
   "metadata": {},
   "outputs": [
    {
     "output_type": "execute_result",
     "data": {
      "text/plain": [
       "   age   workclass      education       marital-status          occupation  \\\n",
       "0   25     Private           11th        Never-married   Machine-op-inspct   \n",
       "1   38     Private        HS-grad   Married-civ-spouse     Farming-fishing   \n",
       "2   28   Local-gov     Assoc-acdm   Married-civ-spouse     Protective-serv   \n",
       "3   44     Private   Some-college   Married-civ-spouse   Machine-op-inspct   \n",
       "4   18           ?   Some-college        Never-married                   ?   \n",
       "\n",
       "  relationship    race      sex  capital-gain  capital-loss  hours-per-week  \\\n",
       "0    Own-child   Black     Male             0             0              40   \n",
       "1      Husband   White     Male             0             0              50   \n",
       "2      Husband   White     Male             0             0              40   \n",
       "3      Husband   Black     Male          7688             0              40   \n",
       "4    Own-child   White   Female             0             0              30   \n",
       "\n",
       "   native-country  \n",
       "0   United-States  \n",
       "1   United-States  \n",
       "2   United-States  \n",
       "3   United-States  \n",
       "4   United-States  "
      ],
      "text/html": "<div>\n<style scoped>\n    .dataframe tbody tr th:only-of-type {\n        vertical-align: middle;\n    }\n\n    .dataframe tbody tr th {\n        vertical-align: top;\n    }\n\n    .dataframe thead th {\n        text-align: right;\n    }\n</style>\n<table border=\"1\" class=\"dataframe\">\n  <thead>\n    <tr style=\"text-align: right;\">\n      <th></th>\n      <th>age</th>\n      <th>workclass</th>\n      <th>education</th>\n      <th>marital-status</th>\n      <th>occupation</th>\n      <th>relationship</th>\n      <th>race</th>\n      <th>sex</th>\n      <th>capital-gain</th>\n      <th>capital-loss</th>\n      <th>hours-per-week</th>\n      <th>native-country</th>\n    </tr>\n  </thead>\n  <tbody>\n    <tr>\n      <th>0</th>\n      <td>25</td>\n      <td>Private</td>\n      <td>11th</td>\n      <td>Never-married</td>\n      <td>Machine-op-inspct</td>\n      <td>Own-child</td>\n      <td>Black</td>\n      <td>Male</td>\n      <td>0</td>\n      <td>0</td>\n      <td>40</td>\n      <td>United-States</td>\n    </tr>\n    <tr>\n      <th>1</th>\n      <td>38</td>\n      <td>Private</td>\n      <td>HS-grad</td>\n      <td>Married-civ-spouse</td>\n      <td>Farming-fishing</td>\n      <td>Husband</td>\n      <td>White</td>\n      <td>Male</td>\n      <td>0</td>\n      <td>0</td>\n      <td>50</td>\n      <td>United-States</td>\n    </tr>\n    <tr>\n      <th>2</th>\n      <td>28</td>\n      <td>Local-gov</td>\n      <td>Assoc-acdm</td>\n      <td>Married-civ-spouse</td>\n      <td>Protective-serv</td>\n      <td>Husband</td>\n      <td>White</td>\n      <td>Male</td>\n      <td>0</td>\n      <td>0</td>\n      <td>40</td>\n      <td>United-States</td>\n    </tr>\n    <tr>\n      <th>3</th>\n      <td>44</td>\n      <td>Private</td>\n      <td>Some-college</td>\n      <td>Married-civ-spouse</td>\n      <td>Machine-op-inspct</td>\n      <td>Husband</td>\n      <td>Black</td>\n      <td>Male</td>\n      <td>7688</td>\n      <td>0</td>\n      <td>40</td>\n      <td>United-States</td>\n    </tr>\n    <tr>\n      <th>4</th>\n      <td>18</td>\n      <td>?</td>\n      <td>Some-college</td>\n      <td>Never-married</td>\n      <td>?</td>\n      <td>Own-child</td>\n      <td>White</td>\n      <td>Female</td>\n      <td>0</td>\n      <td>0</td>\n      <td>30</td>\n      <td>United-States</td>\n    </tr>\n  </tbody>\n</table>\n</div>"
     },
     "metadata": {},
     "execution_count": 5
    }
   ],
   "source": [
    "data = adult_census.drop(columns=[target_name, \"education-num\"])\n",
    "data.head()"
   ]
  },
  {
   "cell_type": "markdown",
   "metadata": {},
   "source": [
    "Once the dataset is loaded, we split it into a training and testing sets."
   ]
  },
  {
   "cell_type": "code",
   "execution_count": 6,
   "metadata": {},
   "outputs": [],
   "source": [
    "from sklearn.model_selection import train_test_split\n",
    "\n",
    "data_train, data_test, target_train, target_test = train_test_split(\n",
    "    data, target, random_state=42)"
   ]
  },
  {
   "cell_type": "markdown",
   "metadata": {},
   "source": [
    "We will define a pipeline as seen in the first module. It will handle both\n",
    "numerical and categorical features.\n",
    "\n",
    "As we will use a tree-based model as a predictor, here we apply an ordinal\n",
    "encoder on the categorical features: it encodes every category with an\n",
    "arbitrary integer. For simple models such as linear models, a one-hot encoder\n",
    "should be preferred. But for complex models, in particular tree-based models,\n",
    "the ordinal encoder is useful as it avoids having high-dimensional\n",
    "representations.\n",
    "\n",
    "First we select all the categorical columns."
   ]
  },
  {
   "cell_type": "code",
   "execution_count": 7,
   "metadata": {},
   "outputs": [
    {
     "output_type": "execute_result",
     "data": {
      "text/plain": [
       "['workclass',\n",
       " 'education',\n",
       " 'marital-status',\n",
       " 'occupation',\n",
       " 'relationship',\n",
       " 'race',\n",
       " 'sex',\n",
       " 'native-country']"
      ]
     },
     "metadata": {},
     "execution_count": 7
    }
   ],
   "source": [
    "from sklearn.compose import make_column_selector as selector\n",
    "\n",
    "categorical_columns_selector = selector(dtype_include=object)\n",
    "categorical_columns = categorical_columns_selector(data)\n",
    "categorical_columns"
   ]
  },
  {
   "cell_type": "markdown",
   "metadata": {},
   "source": [
    "Then we build our ordinal encoder, giving it the known categories."
   ]
  },
  {
   "cell_type": "code",
   "execution_count": 8,
   "metadata": {},
   "outputs": [],
   "source": [
    "from sklearn.preprocessing import OrdinalEncoder\n",
    "\n",
    "categorical_preprocessor = OrdinalEncoder(handle_unknown=\"use_encoded_value\",\n",
    "                                          unknown_value=-1)"
   ]
  },
  {
   "cell_type": "markdown",
   "metadata": {},
   "source": [
    "We now use a column transformer with code to select the categorical columns\n",
    "and apply to them the ordinal encoder."
   ]
  },
  {
   "cell_type": "code",
   "execution_count": 9,
   "metadata": {},
   "outputs": [],
   "source": [
    "from sklearn.compose import ColumnTransformer\n",
    "\n",
    "preprocessor = ColumnTransformer([\n",
    "    ('cat-preprocessor', categorical_preprocessor, categorical_columns)],\n",
    "    remainder='passthrough', sparse_threshold=0)"
   ]
  },
  {
   "cell_type": "markdown",
   "metadata": {},
   "source": [
    "Finally, we use a tree-based classifier (i.e. histogram gradient-boosting) to\n",
    "predict whether or not a person earns more than 50 k$ a year."
   ]
  },
  {
   "cell_type": "code",
   "execution_count": 10,
   "metadata": {},
   "outputs": [
    {
     "output_type": "execute_result",
     "data": {
      "text/plain": [
       "Pipeline(steps=[('preprocessor',\n",
       "                 ColumnTransformer(remainder='passthrough', sparse_threshold=0,\n",
       "                                   transformers=[('cat-preprocessor',\n",
       "                                                  OrdinalEncoder(handle_unknown='use_encoded_value',\n",
       "                                                                 unknown_value=-1),\n",
       "                                                  ['workclass', 'education',\n",
       "                                                   'marital-status',\n",
       "                                                   'occupation', 'relationship',\n",
       "                                                   'race', 'sex',\n",
       "                                                   'native-country'])])),\n",
       "                ('classifier',\n",
       "                 HistGradientBoostingClassifier(max_leaf_nodes=4,\n",
       "                                                random_state=42))])"
      ],
      "text/html": "<style>#sk-b7997d6a-7b76-43c1-bc4a-e4b063a5a852 {color: black;background-color: white;}#sk-b7997d6a-7b76-43c1-bc4a-e4b063a5a852 pre{padding: 0;}#sk-b7997d6a-7b76-43c1-bc4a-e4b063a5a852 div.sk-toggleable {background-color: white;}#sk-b7997d6a-7b76-43c1-bc4a-e4b063a5a852 label.sk-toggleable__label {cursor: pointer;display: block;width: 100%;margin-bottom: 0;padding: 0.2em 0.3em;box-sizing: border-box;text-align: center;}#sk-b7997d6a-7b76-43c1-bc4a-e4b063a5a852 div.sk-toggleable__content {max-height: 0;max-width: 0;overflow: hidden;text-align: left;background-color: #f0f8ff;}#sk-b7997d6a-7b76-43c1-bc4a-e4b063a5a852 div.sk-toggleable__content pre {margin: 0.2em;color: black;border-radius: 0.25em;background-color: #f0f8ff;}#sk-b7997d6a-7b76-43c1-bc4a-e4b063a5a852 input.sk-toggleable__control:checked~div.sk-toggleable__content {max-height: 200px;max-width: 100%;overflow: auto;}#sk-b7997d6a-7b76-43c1-bc4a-e4b063a5a852 div.sk-estimator input.sk-toggleable__control:checked~label.sk-toggleable__label {background-color: #d4ebff;}#sk-b7997d6a-7b76-43c1-bc4a-e4b063a5a852 div.sk-label input.sk-toggleable__control:checked~label.sk-toggleable__label {background-color: #d4ebff;}#sk-b7997d6a-7b76-43c1-bc4a-e4b063a5a852 input.sk-hidden--visually {border: 0;clip: rect(1px 1px 1px 1px);clip: rect(1px, 1px, 1px, 1px);height: 1px;margin: -1px;overflow: hidden;padding: 0;position: absolute;width: 1px;}#sk-b7997d6a-7b76-43c1-bc4a-e4b063a5a852 div.sk-estimator {font-family: monospace;background-color: #f0f8ff;margin: 0.25em 0.25em;border: 1px dotted black;border-radius: 0.25em;box-sizing: border-box;}#sk-b7997d6a-7b76-43c1-bc4a-e4b063a5a852 div.sk-estimator:hover {background-color: #d4ebff;}#sk-b7997d6a-7b76-43c1-bc4a-e4b063a5a852 div.sk-parallel-item::after {content: \"\";width: 100%;border-bottom: 1px solid gray;flex-grow: 1;}#sk-b7997d6a-7b76-43c1-bc4a-e4b063a5a852 div.sk-label:hover label.sk-toggleable__label {background-color: #d4ebff;}#sk-b7997d6a-7b76-43c1-bc4a-e4b063a5a852 div.sk-serial::before {content: \"\";position: absolute;border-left: 1px solid gray;box-sizing: border-box;top: 2em;bottom: 0;left: 50%;}#sk-b7997d6a-7b76-43c1-bc4a-e4b063a5a852 div.sk-serial {display: flex;flex-direction: column;align-items: center;background-color: white;}#sk-b7997d6a-7b76-43c1-bc4a-e4b063a5a852 div.sk-item {z-index: 1;}#sk-b7997d6a-7b76-43c1-bc4a-e4b063a5a852 div.sk-parallel {display: flex;align-items: stretch;justify-content: center;background-color: white;}#sk-b7997d6a-7b76-43c1-bc4a-e4b063a5a852 div.sk-parallel-item {display: flex;flex-direction: column;position: relative;background-color: white;}#sk-b7997d6a-7b76-43c1-bc4a-e4b063a5a852 div.sk-parallel-item:first-child::after {align-self: flex-end;width: 50%;}#sk-b7997d6a-7b76-43c1-bc4a-e4b063a5a852 div.sk-parallel-item:last-child::after {align-self: flex-start;width: 50%;}#sk-b7997d6a-7b76-43c1-bc4a-e4b063a5a852 div.sk-parallel-item:only-child::after {width: 0;}#sk-b7997d6a-7b76-43c1-bc4a-e4b063a5a852 div.sk-dashed-wrapped {border: 1px dashed gray;margin: 0.2em;box-sizing: border-box;padding-bottom: 0.1em;background-color: white;position: relative;}#sk-b7997d6a-7b76-43c1-bc4a-e4b063a5a852 div.sk-label label {font-family: monospace;font-weight: bold;background-color: white;display: inline-block;line-height: 1.2em;}#sk-b7997d6a-7b76-43c1-bc4a-e4b063a5a852 div.sk-label-container {position: relative;z-index: 2;text-align: center;}#sk-b7997d6a-7b76-43c1-bc4a-e4b063a5a852 div.sk-container {display: inline-block;position: relative;}</style><div id=\"sk-b7997d6a-7b76-43c1-bc4a-e4b063a5a852\" class\"sk-top-container\"><div class=\"sk-container\"><div class=\"sk-item sk-dashed-wrapped\"><div class=\"sk-label-container\"><div class=\"sk-label sk-toggleable\"><input class=\"sk-toggleable__control sk-hidden--visually\" id=\"7bfe3556-9f8b-4293-8965-8594629965cb\" type=\"checkbox\" ><label class=\"sk-toggleable__label\" for=\"7bfe3556-9f8b-4293-8965-8594629965cb\">Pipeline</label><div class=\"sk-toggleable__content\"><pre>Pipeline(steps=[('preprocessor',\n                 ColumnTransformer(remainder='passthrough', sparse_threshold=0,\n                                   transformers=[('cat-preprocessor',\n                                                  OrdinalEncoder(handle_unknown='use_encoded_value',\n                                                                 unknown_value=-1),\n                                                  ['workclass', 'education',\n                                                   'marital-status',\n                                                   'occupation', 'relationship',\n                                                   'race', 'sex',\n                                                   'native-country'])])),\n                ('classifier',\n                 HistGradientBoostingClassifier(max_leaf_nodes=4,\n                                                random_state=42))])</pre></div></div></div><div class=\"sk-serial\"><div class=\"sk-item sk-dashed-wrapped\"><div class=\"sk-label-container\"><div class=\"sk-label sk-toggleable\"><input class=\"sk-toggleable__control sk-hidden--visually\" id=\"4062ba14-4484-4c2c-b3eb-eeac753c196c\" type=\"checkbox\" ><label class=\"sk-toggleable__label\" for=\"4062ba14-4484-4c2c-b3eb-eeac753c196c\">preprocessor: ColumnTransformer</label><div class=\"sk-toggleable__content\"><pre>ColumnTransformer(remainder='passthrough', sparse_threshold=0,\n                  transformers=[('cat-preprocessor',\n                                 OrdinalEncoder(handle_unknown='use_encoded_value',\n                                                unknown_value=-1),\n                                 ['workclass', 'education', 'marital-status',\n                                  'occupation', 'relationship', 'race', 'sex',\n                                  'native-country'])])</pre></div></div></div><div class=\"sk-parallel\"><div class=\"sk-parallel-item\"><div class=\"sk-item\"><div class=\"sk-label-container\"><div class=\"sk-label sk-toggleable\"><input class=\"sk-toggleable__control sk-hidden--visually\" id=\"66114ac1-ff1d-4829-a83a-ce9d0a9bcfa1\" type=\"checkbox\" ><label class=\"sk-toggleable__label\" for=\"66114ac1-ff1d-4829-a83a-ce9d0a9bcfa1\">cat-preprocessor</label><div class=\"sk-toggleable__content\"><pre>['workclass', 'education', 'marital-status', 'occupation', 'relationship', 'race', 'sex', 'native-country']</pre></div></div></div><div class=\"sk-serial\"><div class=\"sk-item\"><div class=\"sk-estimator sk-toggleable\"><input class=\"sk-toggleable__control sk-hidden--visually\" id=\"c7fccec0-d40a-454e-9892-e90f411f331d\" type=\"checkbox\" ><label class=\"sk-toggleable__label\" for=\"c7fccec0-d40a-454e-9892-e90f411f331d\">OrdinalEncoder</label><div class=\"sk-toggleable__content\"><pre>OrdinalEncoder(handle_unknown='use_encoded_value', unknown_value=-1)</pre></div></div></div></div></div></div><div class=\"sk-parallel-item\"><div class=\"sk-item\"><div class=\"sk-label-container\"><div class=\"sk-label sk-toggleable\"><input class=\"sk-toggleable__control sk-hidden--visually\" id=\"4fe65e89-ad6f-4cdd-9dbc-5e936d405e47\" type=\"checkbox\" ><label class=\"sk-toggleable__label\" for=\"4fe65e89-ad6f-4cdd-9dbc-5e936d405e47\">remainder</label><div class=\"sk-toggleable__content\"><pre></pre></div></div></div><div class=\"sk-serial\"><div class=\"sk-item\"><div class=\"sk-estimator sk-toggleable\"><input class=\"sk-toggleable__control sk-hidden--visually\" id=\"3125f465-6293-40ec-b2f0-4b3c2e1155b1\" type=\"checkbox\" ><label class=\"sk-toggleable__label\" for=\"3125f465-6293-40ec-b2f0-4b3c2e1155b1\">passthrough</label><div class=\"sk-toggleable__content\"><pre>passthrough</pre></div></div></div></div></div></div></div></div><div class=\"sk-item\"><div class=\"sk-estimator sk-toggleable\"><input class=\"sk-toggleable__control sk-hidden--visually\" id=\"3e1750dc-e8c7-4194-ae9b-3aa433f6e3ff\" type=\"checkbox\" ><label class=\"sk-toggleable__label\" for=\"3e1750dc-e8c7-4194-ae9b-3aa433f6e3ff\">HistGradientBoostingClassifier</label><div class=\"sk-toggleable__content\"><pre>HistGradientBoostingClassifier(max_leaf_nodes=4, random_state=42)</pre></div></div></div></div></div></div></div>"
     },
     "metadata": {},
     "execution_count": 10
    }
   ],
   "source": [
    "# for the moment this line is required to import HistGradientBoostingClassifier\n",
    "from sklearn.experimental import enable_hist_gradient_boosting\n",
    "from sklearn.ensemble import HistGradientBoostingClassifier\n",
    "from sklearn.pipeline import Pipeline\n",
    "\n",
    "model = Pipeline([\n",
    "    (\"preprocessor\", preprocessor),\n",
    "    (\"classifier\",\n",
    "     HistGradientBoostingClassifier(random_state=42, max_leaf_nodes=4))])\n",
    "model"
   ]
  },
  {
   "cell_type": "markdown",
   "metadata": {},
   "source": [
    "## Tuning using a grid-search\n",
    "\n",
    "Instead of manually writing the two `for` loops, scikit-learn provides a\n",
    "class called `GridSearchCV` which implement the exhaustive search implemented\n",
    "during the exercise.\n",
    "\n",
    "Let see how to use the `GridSearchCV` estimator for doing such search.\n",
    "Since the grid-search will be costly, we will only explore the combination\n",
    "learning-rate and the maximum number of nodes."
   ]
  },
  {
   "cell_type": "code",
   "execution_count": 11,
   "metadata": {},
   "outputs": [
    {
     "output_type": "stream",
     "name": "stdout",
     "text": [
      "Wall time: 23.8 s\n"
     ]
    },
    {
     "output_type": "execute_result",
     "data": {
      "text/plain": [
       "GridSearchCV(cv=2,\n",
       "             estimator=Pipeline(steps=[('preprocessor',\n",
       "                                        ColumnTransformer(remainder='passthrough',\n",
       "                                                          sparse_threshold=0,\n",
       "                                                          transformers=[('cat-preprocessor',\n",
       "                                                                         OrdinalEncoder(handle_unknown='use_encoded_value',\n",
       "                                                                                        unknown_value=-1),\n",
       "                                                                         ['workclass',\n",
       "                                                                          'education',\n",
       "                                                                          'marital-status',\n",
       "                                                                          'occupation',\n",
       "                                                                          'relationship',\n",
       "                                                                          'race',\n",
       "                                                                          'sex',\n",
       "                                                                          'native-country'])])),\n",
       "                                       ('classifier',\n",
       "                                        HistGradientBoostingClassifier(max_leaf_nodes=4,\n",
       "                                                                       random_state=42))]),\n",
       "             n_jobs=2,\n",
       "             param_grid={'classifier__learning_rate': (0.05, 0.1, 0.5, 1, 5),\n",
       "                         'classifier__max_leaf_nodes': (3, 10, 30, 100)})"
      ],
      "text/html": "<style>#sk-0eb3ee61-ef64-4dbe-b4c2-2767d8cb9213 {color: black;background-color: white;}#sk-0eb3ee61-ef64-4dbe-b4c2-2767d8cb9213 pre{padding: 0;}#sk-0eb3ee61-ef64-4dbe-b4c2-2767d8cb9213 div.sk-toggleable {background-color: white;}#sk-0eb3ee61-ef64-4dbe-b4c2-2767d8cb9213 label.sk-toggleable__label {cursor: pointer;display: block;width: 100%;margin-bottom: 0;padding: 0.2em 0.3em;box-sizing: border-box;text-align: center;}#sk-0eb3ee61-ef64-4dbe-b4c2-2767d8cb9213 div.sk-toggleable__content {max-height: 0;max-width: 0;overflow: hidden;text-align: left;background-color: #f0f8ff;}#sk-0eb3ee61-ef64-4dbe-b4c2-2767d8cb9213 div.sk-toggleable__content pre {margin: 0.2em;color: black;border-radius: 0.25em;background-color: #f0f8ff;}#sk-0eb3ee61-ef64-4dbe-b4c2-2767d8cb9213 input.sk-toggleable__control:checked~div.sk-toggleable__content {max-height: 200px;max-width: 100%;overflow: auto;}#sk-0eb3ee61-ef64-4dbe-b4c2-2767d8cb9213 div.sk-estimator input.sk-toggleable__control:checked~label.sk-toggleable__label {background-color: #d4ebff;}#sk-0eb3ee61-ef64-4dbe-b4c2-2767d8cb9213 div.sk-label input.sk-toggleable__control:checked~label.sk-toggleable__label {background-color: #d4ebff;}#sk-0eb3ee61-ef64-4dbe-b4c2-2767d8cb9213 input.sk-hidden--visually {border: 0;clip: rect(1px 1px 1px 1px);clip: rect(1px, 1px, 1px, 1px);height: 1px;margin: -1px;overflow: hidden;padding: 0;position: absolute;width: 1px;}#sk-0eb3ee61-ef64-4dbe-b4c2-2767d8cb9213 div.sk-estimator {font-family: monospace;background-color: #f0f8ff;margin: 0.25em 0.25em;border: 1px dotted black;border-radius: 0.25em;box-sizing: border-box;}#sk-0eb3ee61-ef64-4dbe-b4c2-2767d8cb9213 div.sk-estimator:hover {background-color: #d4ebff;}#sk-0eb3ee61-ef64-4dbe-b4c2-2767d8cb9213 div.sk-parallel-item::after {content: \"\";width: 100%;border-bottom: 1px solid gray;flex-grow: 1;}#sk-0eb3ee61-ef64-4dbe-b4c2-2767d8cb9213 div.sk-label:hover label.sk-toggleable__label {background-color: #d4ebff;}#sk-0eb3ee61-ef64-4dbe-b4c2-2767d8cb9213 div.sk-serial::before {content: \"\";position: absolute;border-left: 1px solid gray;box-sizing: border-box;top: 2em;bottom: 0;left: 50%;}#sk-0eb3ee61-ef64-4dbe-b4c2-2767d8cb9213 div.sk-serial {display: flex;flex-direction: column;align-items: center;background-color: white;}#sk-0eb3ee61-ef64-4dbe-b4c2-2767d8cb9213 div.sk-item {z-index: 1;}#sk-0eb3ee61-ef64-4dbe-b4c2-2767d8cb9213 div.sk-parallel {display: flex;align-items: stretch;justify-content: center;background-color: white;}#sk-0eb3ee61-ef64-4dbe-b4c2-2767d8cb9213 div.sk-parallel-item {display: flex;flex-direction: column;position: relative;background-color: white;}#sk-0eb3ee61-ef64-4dbe-b4c2-2767d8cb9213 div.sk-parallel-item:first-child::after {align-self: flex-end;width: 50%;}#sk-0eb3ee61-ef64-4dbe-b4c2-2767d8cb9213 div.sk-parallel-item:last-child::after {align-self: flex-start;width: 50%;}#sk-0eb3ee61-ef64-4dbe-b4c2-2767d8cb9213 div.sk-parallel-item:only-child::after {width: 0;}#sk-0eb3ee61-ef64-4dbe-b4c2-2767d8cb9213 div.sk-dashed-wrapped {border: 1px dashed gray;margin: 0.2em;box-sizing: border-box;padding-bottom: 0.1em;background-color: white;position: relative;}#sk-0eb3ee61-ef64-4dbe-b4c2-2767d8cb9213 div.sk-label label {font-family: monospace;font-weight: bold;background-color: white;display: inline-block;line-height: 1.2em;}#sk-0eb3ee61-ef64-4dbe-b4c2-2767d8cb9213 div.sk-label-container {position: relative;z-index: 2;text-align: center;}#sk-0eb3ee61-ef64-4dbe-b4c2-2767d8cb9213 div.sk-container {display: inline-block;position: relative;}</style><div id=\"sk-0eb3ee61-ef64-4dbe-b4c2-2767d8cb9213\" class\"sk-top-container\"><div class=\"sk-container\"><div class=\"sk-item sk-dashed-wrapped\"><div class=\"sk-label-container\"><div class=\"sk-label sk-toggleable\"><input class=\"sk-toggleable__control sk-hidden--visually\" id=\"bc48fb24-7d92-4a19-9c00-1690296627c9\" type=\"checkbox\" ><label class=\"sk-toggleable__label\" for=\"bc48fb24-7d92-4a19-9c00-1690296627c9\">GridSearchCV</label><div class=\"sk-toggleable__content\"><pre>GridSearchCV(cv=2,\n             estimator=Pipeline(steps=[('preprocessor',\n                                        ColumnTransformer(remainder='passthrough',\n                                                          sparse_threshold=0,\n                                                          transformers=[('cat-preprocessor',\n                                                                         OrdinalEncoder(handle_unknown='use_encoded_value',\n                                                                                        unknown_value=-1),\n                                                                         ['workclass',\n                                                                          'education',\n                                                                          'marital-status',\n                                                                          'occupation',\n                                                                          'relationship',\n                                                                          'race',\n                                                                          'sex',\n                                                                          'native-country'])])),\n                                       ('classifier',\n                                        HistGradientBoostingClassifier(max_leaf_nodes=4,\n                                                                       random_state=42))]),\n             n_jobs=2,\n             param_grid={'classifier__learning_rate': (0.05, 0.1, 0.5, 1, 5),\n                         'classifier__max_leaf_nodes': (3, 10, 30, 100)})</pre></div></div></div><div class=\"sk-parallel\"><div class=\"sk-parallel-item\"><div class=\"sk-item\"><div class=\"sk-serial\"><div class=\"sk-item\"><div class=\"sk-serial\"><div class=\"sk-item sk-dashed-wrapped\"><div class=\"sk-label-container\"><div class=\"sk-label sk-toggleable\"><input class=\"sk-toggleable__control sk-hidden--visually\" id=\"ab048d4d-11aa-42d9-80f4-649725d0a35a\" type=\"checkbox\" ><label class=\"sk-toggleable__label\" for=\"ab048d4d-11aa-42d9-80f4-649725d0a35a\">preprocessor: ColumnTransformer</label><div class=\"sk-toggleable__content\"><pre>ColumnTransformer(remainder='passthrough', sparse_threshold=0,\n                  transformers=[('cat-preprocessor',\n                                 OrdinalEncoder(handle_unknown='use_encoded_value',\n                                                unknown_value=-1),\n                                 ['workclass', 'education', 'marital-status',\n                                  'occupation', 'relationship', 'race', 'sex',\n                                  'native-country'])])</pre></div></div></div><div class=\"sk-parallel\"><div class=\"sk-parallel-item\"><div class=\"sk-item\"><div class=\"sk-label-container\"><div class=\"sk-label sk-toggleable\"><input class=\"sk-toggleable__control sk-hidden--visually\" id=\"2f049978-e626-4650-83c2-eb7759493a38\" type=\"checkbox\" ><label class=\"sk-toggleable__label\" for=\"2f049978-e626-4650-83c2-eb7759493a38\">cat-preprocessor</label><div class=\"sk-toggleable__content\"><pre>['workclass', 'education', 'marital-status', 'occupation', 'relationship', 'race', 'sex', 'native-country']</pre></div></div></div><div class=\"sk-serial\"><div class=\"sk-item\"><div class=\"sk-estimator sk-toggleable\"><input class=\"sk-toggleable__control sk-hidden--visually\" id=\"b33e2f57-8b21-49b7-9099-8375e42937f6\" type=\"checkbox\" ><label class=\"sk-toggleable__label\" for=\"b33e2f57-8b21-49b7-9099-8375e42937f6\">OrdinalEncoder</label><div class=\"sk-toggleable__content\"><pre>OrdinalEncoder(handle_unknown='use_encoded_value', unknown_value=-1)</pre></div></div></div></div></div></div><div class=\"sk-parallel-item\"><div class=\"sk-item\"><div class=\"sk-label-container\"><div class=\"sk-label sk-toggleable\"><input class=\"sk-toggleable__control sk-hidden--visually\" id=\"38b1a52c-bd2c-442e-8ef6-156eb55ff6c7\" type=\"checkbox\" ><label class=\"sk-toggleable__label\" for=\"38b1a52c-bd2c-442e-8ef6-156eb55ff6c7\">remainder</label><div class=\"sk-toggleable__content\"><pre></pre></div></div></div><div class=\"sk-serial\"><div class=\"sk-item\"><div class=\"sk-estimator sk-toggleable\"><input class=\"sk-toggleable__control sk-hidden--visually\" id=\"eccd9a32-825a-4af5-91da-d4529efe3b51\" type=\"checkbox\" ><label class=\"sk-toggleable__label\" for=\"eccd9a32-825a-4af5-91da-d4529efe3b51\">passthrough</label><div class=\"sk-toggleable__content\"><pre>passthrough</pre></div></div></div></div></div></div></div></div><div class=\"sk-item\"><div class=\"sk-estimator sk-toggleable\"><input class=\"sk-toggleable__control sk-hidden--visually\" id=\"773f0957-da9d-40a6-b661-09d75596ba52\" type=\"checkbox\" ><label class=\"sk-toggleable__label\" for=\"773f0957-da9d-40a6-b661-09d75596ba52\">HistGradientBoostingClassifier</label><div class=\"sk-toggleable__content\"><pre>HistGradientBoostingClassifier(max_leaf_nodes=4, random_state=42)</pre></div></div></div></div></div></div></div></div></div></div></div></div>"
     },
     "metadata": {},
     "execution_count": 11
    }
   ],
   "source": [
    "%%time\n",
    "from sklearn.model_selection import GridSearchCV\n",
    "\n",
    "param_grid = {\n",
    "    'classifier__learning_rate': (0.05, 0.1, 0.5, 1, 5),\n",
    "    'classifier__max_leaf_nodes': (3, 10, 30, 100)}\n",
    "model_grid_search = GridSearchCV(model, param_grid=param_grid,\n",
    "                                 n_jobs=2, cv=2)\n",
    "model_grid_search.fit(data_train, target_train)"
   ]
  },
  {
   "cell_type": "markdown",
   "metadata": {},
   "source": [
    "Finally, we will check the accuracy of our model using the test set."
   ]
  },
  {
   "cell_type": "code",
   "execution_count": 12,
   "metadata": {},
   "outputs": [
    {
     "output_type": "stream",
     "name": "stdout",
     "text": [
      "The test accuracy score of the grid-searched pipeline is: 0.88\n"
     ]
    }
   ],
   "source": [
    "accuracy = model_grid_search.score(data_test, target_test)\n",
    "print(\n",
    "    f\"The test accuracy score of the grid-searched pipeline is: \"\n",
    "    f\"{accuracy:.2f}\"\n",
    ")"
   ]
  },
  {
   "cell_type": "markdown",
   "metadata": {},
   "source": [
    "<div class=\"admonition warning alert alert-danger\">\n",
    "<p class=\"first admonition-title\" style=\"font-weight: bold;\">Warning</p>\n",
    "<p>Be aware that the evaluation should normally be performed in a\n",
    "cross-validation framework by providing <tt class=\"docutils literal\">model_grid_search</tt> as a model to\n",
    "the <tt class=\"docutils literal\">cross_validate</tt> function.</p>\n",
    "<p class=\"last\">Here, we are using a single train-test split to highlight the specificities\n",
    "of the <tt class=\"docutils literal\">model_grid_search</tt> instance. We will show such examples in the last\n",
    "section of this notebook.</p>\n",
    "</div>"
   ]
  },
  {
   "cell_type": "markdown",
   "metadata": {},
   "source": [
    "The `GridSearchCV` estimator takes a `param_grid` parameter which defines\n",
    "all hyperparameters and their associated values. The grid-search will be in\n",
    "charge of creating all possible combinations and test them.\n",
    "\n",
    "The number of combinations will be equal to the product of the\n",
    "number of values to explore for each parameter (e.g. in our example 4 x 4\n",
    "combinations). Thus, adding new parameters with their associated values to be\n",
    "explored become rapidly computationally expensive.\n",
    "\n",
    "Once the grid-search is fitted, it can be used as any other predictor by\n",
    "calling `predict` and `predict_proba`. Internally, it will use the model with\n",
    "the best parameters found during `fit`.\n",
    "\n",
    "Get predictions for the 5 first samples using the estimator with the best\n",
    "parameters."
   ]
  },
  {
   "cell_type": "code",
   "execution_count": 13,
   "metadata": {},
   "outputs": [
    {
     "output_type": "execute_result",
     "data": {
      "text/plain": [
       "array([' <=50K', ' <=50K', ' >50K', ' <=50K', ' >50K'], dtype=object)"
      ]
     },
     "metadata": {},
     "execution_count": 13
    }
   ],
   "source": [
    "model_grid_search.predict(data_test.iloc[0:5])"
   ]
  },
  {
   "cell_type": "markdown",
   "metadata": {},
   "source": [
    "You can know about these parameters by looking at the `best_params_`\n",
    "attribute."
   ]
  },
  {
   "cell_type": "code",
   "execution_count": 14,
   "metadata": {},
   "outputs": [
    {
     "output_type": "stream",
     "name": "stdout",
     "text": [
      "The best set of parameters is: {'classifier__learning_rate': 0.1, 'classifier__max_leaf_nodes': 30}\n"
     ]
    }
   ],
   "source": [
    "print(f\"The best set of parameters is: \"\n",
    "      f\"{model_grid_search.best_params_}\")"
   ]
  },
  {
   "cell_type": "markdown",
   "metadata": {},
   "source": [
    "The accuracy and the best parameters of the grid-searched pipeline are\n",
    "similar to the ones we found in the previous exercise, where we searched the\n",
    "best parameters \"by hand\" through a double for loop.\n",
    "\n",
    "In addition, we can inspect all results which are stored in the attribute\n",
    "`cv_results_` of the grid-search. We will filter some specific columns\n",
    "from these results."
   ]
  },
  {
   "cell_type": "code",
   "execution_count": 15,
   "metadata": {},
   "outputs": [
    {
     "output_type": "execute_result",
     "data": {
      "text/plain": [
       "    mean_fit_time  std_fit_time  mean_score_time  std_score_time  \\\n",
       "6        1.150888      0.103672         0.208395        0.027752   \n",
       "2        1.462792      0.016102         0.245807        0.003999   \n",
       "10       0.363624      0.001759         0.166937        0.018063   \n",
       "5        0.694487      0.022694         0.237312        0.006214   \n",
       "8        0.455504      0.001110         0.198377        0.014155   \n",
       "\n",
       "   param_classifier__learning_rate param_classifier__max_leaf_nodes  \\\n",
       "6                              0.1                               30   \n",
       "2                             0.05                               30   \n",
       "10                             0.5                               30   \n",
       "5                              0.1                               10   \n",
       "8                              0.5                                3   \n",
       "\n",
       "                                               params  split0_test_score  \\\n",
       "6   {'classifier__learning_rate': 0.1, 'classifier...           0.868912   \n",
       "2   {'classifier__learning_rate': 0.05, 'classifie...           0.868530   \n",
       "10  {'classifier__learning_rate': 0.5, 'classifier...           0.867056   \n",
       "5   {'classifier__learning_rate': 0.1, 'classifier...           0.866783   \n",
       "8   {'classifier__learning_rate': 0.5, 'classifier...           0.864872   \n",
       "\n",
       "    split1_test_score  mean_test_score  std_test_score  rank_test_score  \n",
       "6            0.867213         0.868063        0.000850                1  \n",
       "2            0.866667         0.867598        0.000932                2  \n",
       "10           0.865902         0.866479        0.000577                3  \n",
       "5            0.866066         0.866425        0.000359                4  \n",
       "8            0.866776         0.865824        0.000952                5  "
      ],
      "text/html": "<div>\n<style scoped>\n    .dataframe tbody tr th:only-of-type {\n        vertical-align: middle;\n    }\n\n    .dataframe tbody tr th {\n        vertical-align: top;\n    }\n\n    .dataframe thead th {\n        text-align: right;\n    }\n</style>\n<table border=\"1\" class=\"dataframe\">\n  <thead>\n    <tr style=\"text-align: right;\">\n      <th></th>\n      <th>mean_fit_time</th>\n      <th>std_fit_time</th>\n      <th>mean_score_time</th>\n      <th>std_score_time</th>\n      <th>param_classifier__learning_rate</th>\n      <th>param_classifier__max_leaf_nodes</th>\n      <th>params</th>\n      <th>split0_test_score</th>\n      <th>split1_test_score</th>\n      <th>mean_test_score</th>\n      <th>std_test_score</th>\n      <th>rank_test_score</th>\n    </tr>\n  </thead>\n  <tbody>\n    <tr>\n      <th>6</th>\n      <td>1.150888</td>\n      <td>0.103672</td>\n      <td>0.208395</td>\n      <td>0.027752</td>\n      <td>0.1</td>\n      <td>30</td>\n      <td>{'classifier__learning_rate': 0.1, 'classifier...</td>\n      <td>0.868912</td>\n      <td>0.867213</td>\n      <td>0.868063</td>\n      <td>0.000850</td>\n      <td>1</td>\n    </tr>\n    <tr>\n      <th>2</th>\n      <td>1.462792</td>\n      <td>0.016102</td>\n      <td>0.245807</td>\n      <td>0.003999</td>\n      <td>0.05</td>\n      <td>30</td>\n      <td>{'classifier__learning_rate': 0.05, 'classifie...</td>\n      <td>0.868530</td>\n      <td>0.866667</td>\n      <td>0.867598</td>\n      <td>0.000932</td>\n      <td>2</td>\n    </tr>\n    <tr>\n      <th>10</th>\n      <td>0.363624</td>\n      <td>0.001759</td>\n      <td>0.166937</td>\n      <td>0.018063</td>\n      <td>0.5</td>\n      <td>30</td>\n      <td>{'classifier__learning_rate': 0.5, 'classifier...</td>\n      <td>0.867056</td>\n      <td>0.865902</td>\n      <td>0.866479</td>\n      <td>0.000577</td>\n      <td>3</td>\n    </tr>\n    <tr>\n      <th>5</th>\n      <td>0.694487</td>\n      <td>0.022694</td>\n      <td>0.237312</td>\n      <td>0.006214</td>\n      <td>0.1</td>\n      <td>10</td>\n      <td>{'classifier__learning_rate': 0.1, 'classifier...</td>\n      <td>0.866783</td>\n      <td>0.866066</td>\n      <td>0.866425</td>\n      <td>0.000359</td>\n      <td>4</td>\n    </tr>\n    <tr>\n      <th>8</th>\n      <td>0.455504</td>\n      <td>0.001110</td>\n      <td>0.198377</td>\n      <td>0.014155</td>\n      <td>0.5</td>\n      <td>3</td>\n      <td>{'classifier__learning_rate': 0.5, 'classifier...</td>\n      <td>0.864872</td>\n      <td>0.866776</td>\n      <td>0.865824</td>\n      <td>0.000952</td>\n      <td>5</td>\n    </tr>\n  </tbody>\n</table>\n</div>"
     },
     "metadata": {},
     "execution_count": 15
    }
   ],
   "source": [
    "cv_results = pd.DataFrame(model_grid_search.cv_results_).sort_values(\n",
    "    \"mean_test_score\", ascending=False)\n",
    "cv_results.head()"
   ]
  },
  {
   "cell_type": "markdown",
   "metadata": {},
   "source": [
    "Let us focus on the most interesting columns and shorten the parameter\n",
    "names to remove the `\"param_classifier__\"` prefix for readability:"
   ]
  },
  {
   "cell_type": "code",
   "execution_count": 17,
   "metadata": {},
   "outputs": [],
   "source": [
    "# get the parameter names\n",
    "column_results = [f\"param_{name}\" for name in param_grid.keys()]\n",
    "column_results += [\n",
    "    \"mean_test_score\", \"std_test_score\", \"rank_test_score\"]\n",
    "cv_results = cv_results[column_results]"
   ]
  },
  {
   "cell_type": "code",
   "execution_count": 18,
   "metadata": {},
   "outputs": [
    {
     "output_type": "execute_result",
     "data": {
      "text/plain": [
       "   learning_rate max_leaf_nodes  mean_test_score  std_test_score  \\\n",
       "6            0.1             30         0.868063        0.000850   \n",
       "2           0.05             30         0.867598        0.000932   \n",
       "10           0.5             30         0.866479        0.000577   \n",
       "5            0.1             10         0.866425        0.000359   \n",
       "8            0.5              3         0.865824        0.000952   \n",
       "9            0.5             10         0.865824        0.000031   \n",
       "3           0.05            100         0.865797        0.001259   \n",
       "7            0.1            100         0.864732        0.000795   \n",
       "1           0.05             10         0.862029        0.000222   \n",
       "11           0.5            100         0.859491        0.001069   \n",
       "13             1             10         0.858863        0.004036   \n",
       "12             1              3         0.857389        0.003545   \n",
       "4            0.1              3         0.853266        0.000515   \n",
       "14             1             30         0.851028        0.002707   \n",
       "15             1            100         0.835194        0.004609   \n",
       "0           0.05              3         0.827196        0.000214   \n",
       "19             5            100         0.727579        0.055780   \n",
       "18             5             30         0.638062        0.144696   \n",
       "17             5             10         0.527527        0.175411   \n",
       "16             5              3         0.283476        0.003775   \n",
       "\n",
       "    rank_test_score  \n",
       "6                 1  \n",
       "2                 2  \n",
       "10                3  \n",
       "5                 4  \n",
       "8                 5  \n",
       "9                 6  \n",
       "3                 7  \n",
       "7                 8  \n",
       "1                 9  \n",
       "11               10  \n",
       "13               11  \n",
       "12               12  \n",
       "4                13  \n",
       "14               14  \n",
       "15               15  \n",
       "0                16  \n",
       "19               17  \n",
       "18               18  \n",
       "17               19  \n",
       "16               20  "
      ],
      "text/html": "<div>\n<style scoped>\n    .dataframe tbody tr th:only-of-type {\n        vertical-align: middle;\n    }\n\n    .dataframe tbody tr th {\n        vertical-align: top;\n    }\n\n    .dataframe thead th {\n        text-align: right;\n    }\n</style>\n<table border=\"1\" class=\"dataframe\">\n  <thead>\n    <tr style=\"text-align: right;\">\n      <th></th>\n      <th>learning_rate</th>\n      <th>max_leaf_nodes</th>\n      <th>mean_test_score</th>\n      <th>std_test_score</th>\n      <th>rank_test_score</th>\n    </tr>\n  </thead>\n  <tbody>\n    <tr>\n      <th>6</th>\n      <td>0.1</td>\n      <td>30</td>\n      <td>0.868063</td>\n      <td>0.000850</td>\n      <td>1</td>\n    </tr>\n    <tr>\n      <th>2</th>\n      <td>0.05</td>\n      <td>30</td>\n      <td>0.867598</td>\n      <td>0.000932</td>\n      <td>2</td>\n    </tr>\n    <tr>\n      <th>10</th>\n      <td>0.5</td>\n      <td>30</td>\n      <td>0.866479</td>\n      <td>0.000577</td>\n      <td>3</td>\n    </tr>\n    <tr>\n      <th>5</th>\n      <td>0.1</td>\n      <td>10</td>\n      <td>0.866425</td>\n      <td>0.000359</td>\n      <td>4</td>\n    </tr>\n    <tr>\n      <th>8</th>\n      <td>0.5</td>\n      <td>3</td>\n      <td>0.865824</td>\n      <td>0.000952</td>\n      <td>5</td>\n    </tr>\n    <tr>\n      <th>9</th>\n      <td>0.5</td>\n      <td>10</td>\n      <td>0.865824</td>\n      <td>0.000031</td>\n      <td>6</td>\n    </tr>\n    <tr>\n      <th>3</th>\n      <td>0.05</td>\n      <td>100</td>\n      <td>0.865797</td>\n      <td>0.001259</td>\n      <td>7</td>\n    </tr>\n    <tr>\n      <th>7</th>\n      <td>0.1</td>\n      <td>100</td>\n      <td>0.864732</td>\n      <td>0.000795</td>\n      <td>8</td>\n    </tr>\n    <tr>\n      <th>1</th>\n      <td>0.05</td>\n      <td>10</td>\n      <td>0.862029</td>\n      <td>0.000222</td>\n      <td>9</td>\n    </tr>\n    <tr>\n      <th>11</th>\n      <td>0.5</td>\n      <td>100</td>\n      <td>0.859491</td>\n      <td>0.001069</td>\n      <td>10</td>\n    </tr>\n    <tr>\n      <th>13</th>\n      <td>1</td>\n      <td>10</td>\n      <td>0.858863</td>\n      <td>0.004036</td>\n      <td>11</td>\n    </tr>\n    <tr>\n      <th>12</th>\n      <td>1</td>\n      <td>3</td>\n      <td>0.857389</td>\n      <td>0.003545</td>\n      <td>12</td>\n    </tr>\n    <tr>\n      <th>4</th>\n      <td>0.1</td>\n      <td>3</td>\n      <td>0.853266</td>\n      <td>0.000515</td>\n      <td>13</td>\n    </tr>\n    <tr>\n      <th>14</th>\n      <td>1</td>\n      <td>30</td>\n      <td>0.851028</td>\n      <td>0.002707</td>\n      <td>14</td>\n    </tr>\n    <tr>\n      <th>15</th>\n      <td>1</td>\n      <td>100</td>\n      <td>0.835194</td>\n      <td>0.004609</td>\n      <td>15</td>\n    </tr>\n    <tr>\n      <th>0</th>\n      <td>0.05</td>\n      <td>3</td>\n      <td>0.827196</td>\n      <td>0.000214</td>\n      <td>16</td>\n    </tr>\n    <tr>\n      <th>19</th>\n      <td>5</td>\n      <td>100</td>\n      <td>0.727579</td>\n      <td>0.055780</td>\n      <td>17</td>\n    </tr>\n    <tr>\n      <th>18</th>\n      <td>5</td>\n      <td>30</td>\n      <td>0.638062</td>\n      <td>0.144696</td>\n      <td>18</td>\n    </tr>\n    <tr>\n      <th>17</th>\n      <td>5</td>\n      <td>10</td>\n      <td>0.527527</td>\n      <td>0.175411</td>\n      <td>19</td>\n    </tr>\n    <tr>\n      <th>16</th>\n      <td>5</td>\n      <td>3</td>\n      <td>0.283476</td>\n      <td>0.003775</td>\n      <td>20</td>\n    </tr>\n  </tbody>\n</table>\n</div>"
     },
     "metadata": {},
     "execution_count": 18
    }
   ],
   "source": [
    "def shorten_param(param_name):\n",
    "    if \"__\" in param_name:\n",
    "        return param_name.rsplit(\"__\", 1)[1]\n",
    "    return param_name\n",
    "\n",
    "\n",
    "cv_results = cv_results.rename(shorten_param, axis=1)\n",
    "cv_results"
   ]
  },
  {
   "cell_type": "markdown",
   "metadata": {},
   "source": [
    "With only 2 parameters, we might want to visualize the grid-search as a\n",
    "heatmap. We need to transform our `cv_results` into a dataframe where:\n",
    "\n",
    "- the rows will correspond to the learning-rate values;\n",
    "- the columns will correspond to the maximum number of leaf;\n",
    "- the content of the dataframe will be the mean test scores."
   ]
  },
  {
   "cell_type": "code",
   "execution_count": 19,
   "metadata": {},
   "outputs": [
    {
     "output_type": "execute_result",
     "data": {
      "text/plain": [
       "max_leaf_nodes       3         10        30        100\n",
       "learning_rate                                         \n",
       "0.05            0.827196  0.862029  0.867598  0.865797\n",
       "0.10            0.853266  0.866425  0.868063  0.864732\n",
       "0.50            0.865824  0.865824  0.866479  0.859491\n",
       "1.00            0.857389  0.858863  0.851028  0.835194\n",
       "5.00            0.283476  0.527527  0.638062  0.727579"
      ],
      "text/html": "<div>\n<style scoped>\n    .dataframe tbody tr th:only-of-type {\n        vertical-align: middle;\n    }\n\n    .dataframe tbody tr th {\n        vertical-align: top;\n    }\n\n    .dataframe thead th {\n        text-align: right;\n    }\n</style>\n<table border=\"1\" class=\"dataframe\">\n  <thead>\n    <tr style=\"text-align: right;\">\n      <th>max_leaf_nodes</th>\n      <th>3</th>\n      <th>10</th>\n      <th>30</th>\n      <th>100</th>\n    </tr>\n    <tr>\n      <th>learning_rate</th>\n      <th></th>\n      <th></th>\n      <th></th>\n      <th></th>\n    </tr>\n  </thead>\n  <tbody>\n    <tr>\n      <th>0.05</th>\n      <td>0.827196</td>\n      <td>0.862029</td>\n      <td>0.867598</td>\n      <td>0.865797</td>\n    </tr>\n    <tr>\n      <th>0.10</th>\n      <td>0.853266</td>\n      <td>0.866425</td>\n      <td>0.868063</td>\n      <td>0.864732</td>\n    </tr>\n    <tr>\n      <th>0.50</th>\n      <td>0.865824</td>\n      <td>0.865824</td>\n      <td>0.866479</td>\n      <td>0.859491</td>\n    </tr>\n    <tr>\n      <th>1.00</th>\n      <td>0.857389</td>\n      <td>0.858863</td>\n      <td>0.851028</td>\n      <td>0.835194</td>\n    </tr>\n    <tr>\n      <th>5.00</th>\n      <td>0.283476</td>\n      <td>0.527527</td>\n      <td>0.638062</td>\n      <td>0.727579</td>\n    </tr>\n  </tbody>\n</table>\n</div>"
     },
     "metadata": {},
     "execution_count": 19
    }
   ],
   "source": [
    "pivoted_cv_results = cv_results.pivot_table(\n",
    "    values=\"mean_test_score\", index=[\"learning_rate\"],\n",
    "    columns=[\"max_leaf_nodes\"])\n",
    "\n",
    "pivoted_cv_results"
   ]
  },
  {
   "cell_type": "markdown",
   "metadata": {},
   "source": [
    "We can use a heatmap representation to show the above dataframe visually."
   ]
  },
  {
   "cell_type": "code",
   "execution_count": 20,
   "metadata": {},
   "outputs": [
    {
     "output_type": "display_data",
     "data": {
      "text/plain": "<Figure size 432x288 with 2 Axes>",
      "image/svg+xml": "<?xml version=\"1.0\" encoding=\"utf-8\" standalone=\"no\"?>\r\n<!DOCTYPE svg PUBLIC \"-//W3C//DTD SVG 1.1//EN\"\r\n  \"http://www.w3.org/Graphics/SVG/1.1/DTD/svg11.dtd\">\r\n<svg height=\"288.498867pt\" version=\"1.1\" viewBox=\"0 0 409.480438 288.498867\" width=\"409.480438pt\" xmlns=\"http://www.w3.org/2000/svg\" xmlns:xlink=\"http://www.w3.org/1999/xlink\">\r\n <metadata>\r\n  <rdf:RDF xmlns:cc=\"http://creativecommons.org/ns#\" xmlns:dc=\"http://purl.org/dc/elements/1.1/\" xmlns:rdf=\"http://www.w3.org/1999/02/22-rdf-syntax-ns#\">\r\n   <cc:Work>\r\n    <dc:type rdf:resource=\"http://purl.org/dc/dcmitype/StillImage\"/>\r\n    <dc:date>2021-07-05T14:33:10.139893</dc:date>\r\n    <dc:format>image/svg+xml</dc:format>\r\n    <dc:creator>\r\n     <cc:Agent>\r\n      <dc:title>Matplotlib v3.4.2, https://matplotlib.org/</dc:title>\r\n     </cc:Agent>\r\n    </dc:creator>\r\n   </cc:Work>\r\n  </rdf:RDF>\r\n </metadata>\r\n <defs>\r\n  <style type=\"text/css\">*{stroke-linecap:butt;stroke-linejoin:round;}</style>\r\n </defs>\r\n <g id=\"figure_1\">\r\n  <g id=\"patch_1\">\r\n   <path d=\"M 0 288.498867 \r\nL 409.480438 288.498867 \r\nL 409.480438 0 \r\nL 0 0 \r\nz\r\n\" style=\"fill:none;\"/>\r\n  </g>\r\n  <g id=\"axes_1\">\r\n   <g id=\"patch_2\">\r\n    <path d=\"M 57.590156 230.908711 \r\nL 325.430156 230.908711 \r\nL 325.430156 13.468711 \r\nL 57.590156 13.468711 \r\nz\r\n\" style=\"fill:#ffffff;\"/>\r\n   </g>\r\n   <g id=\"QuadMesh_1\">\r\n    <path clip-path=\"url(#p02a2113dd5)\" d=\"M 57.590156 230.908711 \r\nL 124.550156 230.908711 \r\nL 124.550156 187.420711 \r\nL 57.590156 187.420711 \r\nL 57.590156 230.908711 \r\n\" style=\"fill:#1d8dbe;\"/>\r\n    <path clip-path=\"url(#p02a2113dd5)\" d=\"M 124.550156 230.908711 \r\nL 191.510156 230.908711 \r\nL 191.510156 187.420711 \r\nL 124.550156 187.420711 \r\nL 124.550156 230.908711 \r\n\" style=\"fill:#23499e;\"/>\r\n    <path clip-path=\"url(#p02a2113dd5)\" d=\"M 191.510156 230.908711 \r\nL 258.470156 230.908711 \r\nL 258.470156 187.420711 \r\nL 191.510156 187.420711 \r\nL 191.510156 230.908711 \r\n\" style=\"fill:#24409a;\"/>\r\n    <path clip-path=\"url(#p02a2113dd5)\" d=\"M 258.470156 230.908711 \r\nL 325.430156 230.908711 \r\nL 325.430156 187.420711 \r\nL 258.470156 187.420711 \r\nL 258.470156 230.908711 \r\n\" style=\"fill:#24439b;\"/>\r\n    <path clip-path=\"url(#p02a2113dd5)\" d=\"M 57.590156 187.420711 \r\nL 124.550156 187.420711 \r\nL 124.550156 143.932711 \r\nL 57.590156 143.932711 \r\nL 57.590156 187.420711 \r\n\" style=\"fill:#2258a5;\"/>\r\n    <path clip-path=\"url(#p02a2113dd5)\" d=\"M 124.550156 187.420711 \r\nL 191.510156 187.420711 \r\nL 191.510156 143.932711 \r\nL 124.550156 143.932711 \r\nL 124.550156 187.420711 \r\n\" style=\"fill:#24419a;\"/>\r\n    <path clip-path=\"url(#p02a2113dd5)\" d=\"M 191.510156 187.420711 \r\nL 258.470156 187.420711 \r\nL 258.470156 143.932711 \r\nL 191.510156 143.932711 \r\nL 191.510156 187.420711 \r\n\" style=\"fill:#243f99;\"/>\r\n    <path clip-path=\"url(#p02a2113dd5)\" d=\"M 258.470156 187.420711 \r\nL 325.430156 187.420711 \r\nL 325.430156 143.932711 \r\nL 258.470156 143.932711 \r\nL 258.470156 187.420711 \r\n\" style=\"fill:#24459c;\"/>\r\n    <path clip-path=\"url(#p02a2113dd5)\" d=\"M 57.590156 143.932711 \r\nL 124.550156 143.932711 \r\nL 124.550156 100.444711 \r\nL 57.590156 100.444711 \r\nL 57.590156 143.932711 \r\n\" style=\"fill:#24439b;\"/>\r\n    <path clip-path=\"url(#p02a2113dd5)\" d=\"M 124.550156 143.932711 \r\nL 191.510156 143.932711 \r\nL 191.510156 100.444711 \r\nL 124.550156 100.444711 \r\nL 124.550156 143.932711 \r\n\" style=\"fill:#24439b;\"/>\r\n    <path clip-path=\"url(#p02a2113dd5)\" d=\"M 191.510156 143.932711 \r\nL 258.470156 143.932711 \r\nL 258.470156 100.444711 \r\nL 191.510156 100.444711 \r\nL 191.510156 143.932711 \r\n\" style=\"fill:#24419a;\"/>\r\n    <path clip-path=\"url(#p02a2113dd5)\" d=\"M 258.470156 143.932711 \r\nL 325.430156 143.932711 \r\nL 325.430156 100.444711 \r\nL 258.470156 100.444711 \r\nL 258.470156 143.932711 \r\n\" style=\"fill:#234da0;\"/>\r\n    <path clip-path=\"url(#p02a2113dd5)\" d=\"M 57.590156 100.444711 \r\nL 124.550156 100.444711 \r\nL 124.550156 56.956711 \r\nL 57.590156 56.956711 \r\nL 57.590156 100.444711 \r\n\" style=\"fill:#2351a2;\"/>\r\n    <path clip-path=\"url(#p02a2113dd5)\" d=\"M 124.550156 100.444711 \r\nL 191.510156 100.444711 \r\nL 191.510156 56.956711 \r\nL 124.550156 56.956711 \r\nL 124.550156 100.444711 \r\n\" style=\"fill:#234fa1;\"/>\r\n    <path clip-path=\"url(#p02a2113dd5)\" d=\"M 191.510156 100.444711 \r\nL 258.470156 100.444711 \r\nL 258.470156 56.956711 \r\nL 191.510156 56.956711 \r\nL 191.510156 100.444711 \r\n\" style=\"fill:#225ca7;\"/>\r\n    <path clip-path=\"url(#p02a2113dd5)\" d=\"M 258.470156 100.444711 \r\nL 325.430156 100.444711 \r\nL 325.430156 56.956711 \r\nL 258.470156 56.956711 \r\nL 258.470156 100.444711 \r\n\" style=\"fill:#1f7bb6;\"/>\r\n    <path clip-path=\"url(#p02a2113dd5)\" d=\"M 57.590156 56.956711 \r\nL 124.550156 56.956711 \r\nL 124.550156 13.468711 \r\nL 57.590156 13.468711 \r\nL 57.590156 56.956711 \r\n\" style=\"fill:#ffffd9;\"/>\r\n    <path clip-path=\"url(#p02a2113dd5)\" d=\"M 124.550156 56.956711 \r\nL 191.510156 56.956711 \r\nL 191.510156 13.468711 \r\nL 124.550156 13.468711 \r\nL 124.550156 56.956711 \r\n\" style=\"fill:#ffffd9;\"/>\r\n    <path clip-path=\"url(#p02a2113dd5)\" d=\"M 191.510156 56.956711 \r\nL 258.470156 56.956711 \r\nL 258.470156 13.468711 \r\nL 191.510156 13.468711 \r\nL 191.510156 56.956711 \r\n\" style=\"fill:#ffffd9;\"/>\r\n    <path clip-path=\"url(#p02a2113dd5)\" d=\"M 258.470156 56.956711 \r\nL 325.430156 56.956711 \r\nL 325.430156 13.468711 \r\nL 258.470156 13.468711 \r\nL 258.470156 56.956711 \r\n\" style=\"fill:#e9f7b1;\"/>\r\n   </g>\r\n   <g id=\"matplotlib.axis_1\">\r\n    <g id=\"xtick_1\">\r\n     <g id=\"line2d_1\">\r\n      <defs>\r\n       <path d=\"M 0 0 \r\nL 0 9 \r\n\" id=\"mc996798483\" style=\"stroke:#000000;stroke-width:1.875;\"/>\r\n      </defs>\r\n      <g>\r\n       <use style=\"stroke:#000000;stroke-width:1.875;\" x=\"91.070156\" xlink:href=\"#mc996798483\" y=\"230.908711\"/>\r\n      </g>\r\n     </g>\r\n     <g id=\"text_1\">\r\n      <!-- 3 -->\r\n      <g transform=\"translate(85.821094 255.946133)scale(0.165 -0.165)\">\r\n       <defs>\r\n        <path d=\"M 2597 2516 \r\nQ 3050 2419 3304 2112 \r\nQ 3559 1806 3559 1356 \r\nQ 3559 666 3084 287 \r\nQ 2609 -91 1734 -91 \r\nQ 1441 -91 1130 -33 \r\nQ 819 25 488 141 \r\nL 488 750 \r\nQ 750 597 1062 519 \r\nQ 1375 441 1716 441 \r\nQ 2309 441 2620 675 \r\nQ 2931 909 2931 1356 \r\nQ 2931 1769 2642 2001 \r\nQ 2353 2234 1838 2234 \r\nL 1294 2234 \r\nL 1294 2753 \r\nL 1863 2753 \r\nQ 2328 2753 2575 2939 \r\nQ 2822 3125 2822 3475 \r\nQ 2822 3834 2567 4026 \r\nQ 2313 4219 1838 4219 \r\nQ 1578 4219 1281 4162 \r\nQ 984 4106 628 3988 \r\nL 628 4550 \r\nQ 988 4650 1302 4700 \r\nQ 1616 4750 1894 4750 \r\nQ 2613 4750 3031 4423 \r\nQ 3450 4097 3450 3541 \r\nQ 3450 3153 3228 2886 \r\nQ 3006 2619 2597 2516 \r\nz\r\n\" id=\"DejaVuSans-33\" transform=\"scale(0.015625)\"/>\r\n       </defs>\r\n       <use xlink:href=\"#DejaVuSans-33\"/>\r\n      </g>\r\n     </g>\r\n    </g>\r\n    <g id=\"xtick_2\">\r\n     <g id=\"line2d_2\">\r\n      <g>\r\n       <use style=\"stroke:#000000;stroke-width:1.875;\" x=\"158.030156\" xlink:href=\"#mc996798483\" y=\"230.908711\"/>\r\n      </g>\r\n     </g>\r\n     <g id=\"text_2\">\r\n      <!-- 10 -->\r\n      <g transform=\"translate(147.532031 255.946133)scale(0.165 -0.165)\">\r\n       <defs>\r\n        <path d=\"M 794 531 \r\nL 1825 531 \r\nL 1825 4091 \r\nL 703 3866 \r\nL 703 4441 \r\nL 1819 4666 \r\nL 2450 4666 \r\nL 2450 531 \r\nL 3481 531 \r\nL 3481 0 \r\nL 794 0 \r\nL 794 531 \r\nz\r\n\" id=\"DejaVuSans-31\" transform=\"scale(0.015625)\"/>\r\n        <path d=\"M 2034 4250 \r\nQ 1547 4250 1301 3770 \r\nQ 1056 3291 1056 2328 \r\nQ 1056 1369 1301 889 \r\nQ 1547 409 2034 409 \r\nQ 2525 409 2770 889 \r\nQ 3016 1369 3016 2328 \r\nQ 3016 3291 2770 3770 \r\nQ 2525 4250 2034 4250 \r\nz\r\nM 2034 4750 \r\nQ 2819 4750 3233 4129 \r\nQ 3647 3509 3647 2328 \r\nQ 3647 1150 3233 529 \r\nQ 2819 -91 2034 -91 \r\nQ 1250 -91 836 529 \r\nQ 422 1150 422 2328 \r\nQ 422 3509 836 4129 \r\nQ 1250 4750 2034 4750 \r\nz\r\n\" id=\"DejaVuSans-30\" transform=\"scale(0.015625)\"/>\r\n       </defs>\r\n       <use xlink:href=\"#DejaVuSans-31\"/>\r\n       <use x=\"63.623047\" xlink:href=\"#DejaVuSans-30\"/>\r\n      </g>\r\n     </g>\r\n    </g>\r\n    <g id=\"xtick_3\">\r\n     <g id=\"line2d_3\">\r\n      <g>\r\n       <use style=\"stroke:#000000;stroke-width:1.875;\" x=\"224.990156\" xlink:href=\"#mc996798483\" y=\"230.908711\"/>\r\n      </g>\r\n     </g>\r\n     <g id=\"text_3\">\r\n      <!-- 30 -->\r\n      <g transform=\"translate(214.492031 255.946133)scale(0.165 -0.165)\">\r\n       <use xlink:href=\"#DejaVuSans-33\"/>\r\n       <use x=\"63.623047\" xlink:href=\"#DejaVuSans-30\"/>\r\n      </g>\r\n     </g>\r\n    </g>\r\n    <g id=\"xtick_4\">\r\n     <g id=\"line2d_4\">\r\n      <g>\r\n       <use style=\"stroke:#000000;stroke-width:1.875;\" x=\"291.950156\" xlink:href=\"#mc996798483\" y=\"230.908711\"/>\r\n      </g>\r\n     </g>\r\n     <g id=\"text_4\">\r\n      <!-- 100 -->\r\n      <g transform=\"translate(276.202969 255.946133)scale(0.165 -0.165)\">\r\n       <use xlink:href=\"#DejaVuSans-31\"/>\r\n       <use x=\"63.623047\" xlink:href=\"#DejaVuSans-30\"/>\r\n       <use x=\"127.246094\" xlink:href=\"#DejaVuSans-30\"/>\r\n      </g>\r\n     </g>\r\n    </g>\r\n    <g id=\"text_5\">\r\n     <!-- max_leaf_nodes -->\r\n     <g transform=\"translate(119.029219 277.054805)scale(0.18 -0.18)\">\r\n      <defs>\r\n       <path d=\"M 3328 2828 \r\nQ 3544 3216 3844 3400 \r\nQ 4144 3584 4550 3584 \r\nQ 5097 3584 5394 3201 \r\nQ 5691 2819 5691 2113 \r\nL 5691 0 \r\nL 5113 0 \r\nL 5113 2094 \r\nQ 5113 2597 4934 2840 \r\nQ 4756 3084 4391 3084 \r\nQ 3944 3084 3684 2787 \r\nQ 3425 2491 3425 1978 \r\nL 3425 0 \r\nL 2847 0 \r\nL 2847 2094 \r\nQ 2847 2600 2669 2842 \r\nQ 2491 3084 2119 3084 \r\nQ 1678 3084 1418 2786 \r\nQ 1159 2488 1159 1978 \r\nL 1159 0 \r\nL 581 0 \r\nL 581 3500 \r\nL 1159 3500 \r\nL 1159 2956 \r\nQ 1356 3278 1631 3431 \r\nQ 1906 3584 2284 3584 \r\nQ 2666 3584 2933 3390 \r\nQ 3200 3197 3328 2828 \r\nz\r\n\" id=\"DejaVuSans-6d\" transform=\"scale(0.015625)\"/>\r\n       <path d=\"M 2194 1759 \r\nQ 1497 1759 1228 1600 \r\nQ 959 1441 959 1056 \r\nQ 959 750 1161 570 \r\nQ 1363 391 1709 391 \r\nQ 2188 391 2477 730 \r\nQ 2766 1069 2766 1631 \r\nL 2766 1759 \r\nL 2194 1759 \r\nz\r\nM 3341 1997 \r\nL 3341 0 \r\nL 2766 0 \r\nL 2766 531 \r\nQ 2569 213 2275 61 \r\nQ 1981 -91 1556 -91 \r\nQ 1019 -91 701 211 \r\nQ 384 513 384 1019 \r\nQ 384 1609 779 1909 \r\nQ 1175 2209 1959 2209 \r\nL 2766 2209 \r\nL 2766 2266 \r\nQ 2766 2663 2505 2880 \r\nQ 2244 3097 1772 3097 \r\nQ 1472 3097 1187 3025 \r\nQ 903 2953 641 2809 \r\nL 641 3341 \r\nQ 956 3463 1253 3523 \r\nQ 1550 3584 1831 3584 \r\nQ 2591 3584 2966 3190 \r\nQ 3341 2797 3341 1997 \r\nz\r\n\" id=\"DejaVuSans-61\" transform=\"scale(0.015625)\"/>\r\n       <path d=\"M 3513 3500 \r\nL 2247 1797 \r\nL 3578 0 \r\nL 2900 0 \r\nL 1881 1375 \r\nL 863 0 \r\nL 184 0 \r\nL 1544 1831 \r\nL 300 3500 \r\nL 978 3500 \r\nL 1906 2253 \r\nL 2834 3500 \r\nL 3513 3500 \r\nz\r\n\" id=\"DejaVuSans-78\" transform=\"scale(0.015625)\"/>\r\n       <path d=\"M 3263 -1063 \r\nL 3263 -1509 \r\nL -63 -1509 \r\nL -63 -1063 \r\nL 3263 -1063 \r\nz\r\n\" id=\"DejaVuSans-5f\" transform=\"scale(0.015625)\"/>\r\n       <path d=\"M 603 4863 \r\nL 1178 4863 \r\nL 1178 0 \r\nL 603 0 \r\nL 603 4863 \r\nz\r\n\" id=\"DejaVuSans-6c\" transform=\"scale(0.015625)\"/>\r\n       <path d=\"M 3597 1894 \r\nL 3597 1613 \r\nL 953 1613 \r\nQ 991 1019 1311 708 \r\nQ 1631 397 2203 397 \r\nQ 2534 397 2845 478 \r\nQ 3156 559 3463 722 \r\nL 3463 178 \r\nQ 3153 47 2828 -22 \r\nQ 2503 -91 2169 -91 \r\nQ 1331 -91 842 396 \r\nQ 353 884 353 1716 \r\nQ 353 2575 817 3079 \r\nQ 1281 3584 2069 3584 \r\nQ 2775 3584 3186 3129 \r\nQ 3597 2675 3597 1894 \r\nz\r\nM 3022 2063 \r\nQ 3016 2534 2758 2815 \r\nQ 2500 3097 2075 3097 \r\nQ 1594 3097 1305 2825 \r\nQ 1016 2553 972 2059 \r\nL 3022 2063 \r\nz\r\n\" id=\"DejaVuSans-65\" transform=\"scale(0.015625)\"/>\r\n       <path d=\"M 2375 4863 \r\nL 2375 4384 \r\nL 1825 4384 \r\nQ 1516 4384 1395 4259 \r\nQ 1275 4134 1275 3809 \r\nL 1275 3500 \r\nL 2222 3500 \r\nL 2222 3053 \r\nL 1275 3053 \r\nL 1275 0 \r\nL 697 0 \r\nL 697 3053 \r\nL 147 3053 \r\nL 147 3500 \r\nL 697 3500 \r\nL 697 3744 \r\nQ 697 4328 969 4595 \r\nQ 1241 4863 1831 4863 \r\nL 2375 4863 \r\nz\r\n\" id=\"DejaVuSans-66\" transform=\"scale(0.015625)\"/>\r\n       <path d=\"M 3513 2113 \r\nL 3513 0 \r\nL 2938 0 \r\nL 2938 2094 \r\nQ 2938 2591 2744 2837 \r\nQ 2550 3084 2163 3084 \r\nQ 1697 3084 1428 2787 \r\nQ 1159 2491 1159 1978 \r\nL 1159 0 \r\nL 581 0 \r\nL 581 3500 \r\nL 1159 3500 \r\nL 1159 2956 \r\nQ 1366 3272 1645 3428 \r\nQ 1925 3584 2291 3584 \r\nQ 2894 3584 3203 3211 \r\nQ 3513 2838 3513 2113 \r\nz\r\n\" id=\"DejaVuSans-6e\" transform=\"scale(0.015625)\"/>\r\n       <path d=\"M 1959 3097 \r\nQ 1497 3097 1228 2736 \r\nQ 959 2375 959 1747 \r\nQ 959 1119 1226 758 \r\nQ 1494 397 1959 397 \r\nQ 2419 397 2687 759 \r\nQ 2956 1122 2956 1747 \r\nQ 2956 2369 2687 2733 \r\nQ 2419 3097 1959 3097 \r\nz\r\nM 1959 3584 \r\nQ 2709 3584 3137 3096 \r\nQ 3566 2609 3566 1747 \r\nQ 3566 888 3137 398 \r\nQ 2709 -91 1959 -91 \r\nQ 1206 -91 779 398 \r\nQ 353 888 353 1747 \r\nQ 353 2609 779 3096 \r\nQ 1206 3584 1959 3584 \r\nz\r\n\" id=\"DejaVuSans-6f\" transform=\"scale(0.015625)\"/>\r\n       <path d=\"M 2906 2969 \r\nL 2906 4863 \r\nL 3481 4863 \r\nL 3481 0 \r\nL 2906 0 \r\nL 2906 525 \r\nQ 2725 213 2448 61 \r\nQ 2172 -91 1784 -91 \r\nQ 1150 -91 751 415 \r\nQ 353 922 353 1747 \r\nQ 353 2572 751 3078 \r\nQ 1150 3584 1784 3584 \r\nQ 2172 3584 2448 3432 \r\nQ 2725 3281 2906 2969 \r\nz\r\nM 947 1747 \r\nQ 947 1113 1208 752 \r\nQ 1469 391 1925 391 \r\nQ 2381 391 2643 752 \r\nQ 2906 1113 2906 1747 \r\nQ 2906 2381 2643 2742 \r\nQ 2381 3103 1925 3103 \r\nQ 1469 3103 1208 2742 \r\nQ 947 2381 947 1747 \r\nz\r\n\" id=\"DejaVuSans-64\" transform=\"scale(0.015625)\"/>\r\n       <path d=\"M 2834 3397 \r\nL 2834 2853 \r\nQ 2591 2978 2328 3040 \r\nQ 2066 3103 1784 3103 \r\nQ 1356 3103 1142 2972 \r\nQ 928 2841 928 2578 \r\nQ 928 2378 1081 2264 \r\nQ 1234 2150 1697 2047 \r\nL 1894 2003 \r\nQ 2506 1872 2764 1633 \r\nQ 3022 1394 3022 966 \r\nQ 3022 478 2636 193 \r\nQ 2250 -91 1575 -91 \r\nQ 1294 -91 989 -36 \r\nQ 684 19 347 128 \r\nL 347 722 \r\nQ 666 556 975 473 \r\nQ 1284 391 1588 391 \r\nQ 1994 391 2212 530 \r\nQ 2431 669 2431 922 \r\nQ 2431 1156 2273 1281 \r\nQ 2116 1406 1581 1522 \r\nL 1381 1569 \r\nQ 847 1681 609 1914 \r\nQ 372 2147 372 2553 \r\nQ 372 3047 722 3315 \r\nQ 1072 3584 1716 3584 \r\nQ 2034 3584 2315 3537 \r\nQ 2597 3491 2834 3397 \r\nz\r\n\" id=\"DejaVuSans-73\" transform=\"scale(0.015625)\"/>\r\n      </defs>\r\n      <use xlink:href=\"#DejaVuSans-6d\"/>\r\n      <use x=\"97.412109\" xlink:href=\"#DejaVuSans-61\"/>\r\n      <use x=\"158.691406\" xlink:href=\"#DejaVuSans-78\"/>\r\n      <use x=\"217.871094\" xlink:href=\"#DejaVuSans-5f\"/>\r\n      <use x=\"267.871094\" xlink:href=\"#DejaVuSans-6c\"/>\r\n      <use x=\"295.654297\" xlink:href=\"#DejaVuSans-65\"/>\r\n      <use x=\"357.177734\" xlink:href=\"#DejaVuSans-61\"/>\r\n      <use x=\"418.457031\" xlink:href=\"#DejaVuSans-66\"/>\r\n      <use x=\"453.662109\" xlink:href=\"#DejaVuSans-5f\"/>\r\n      <use x=\"503.662109\" xlink:href=\"#DejaVuSans-6e\"/>\r\n      <use x=\"567.041016\" xlink:href=\"#DejaVuSans-6f\"/>\r\n      <use x=\"628.222656\" xlink:href=\"#DejaVuSans-64\"/>\r\n      <use x=\"691.699219\" xlink:href=\"#DejaVuSans-65\"/>\r\n      <use x=\"753.222656\" xlink:href=\"#DejaVuSans-73\"/>\r\n     </g>\r\n    </g>\r\n   </g>\r\n   <g id=\"matplotlib.axis_2\">\r\n    <g id=\"ytick_1\">\r\n     <g id=\"line2d_5\">\r\n      <defs>\r\n       <path d=\"M 0 0 \r\nL -9 0 \r\n\" id=\"m0f2def28ca\" style=\"stroke:#000000;stroke-width:1.875;\"/>\r\n      </defs>\r\n      <g>\r\n       <use style=\"stroke:#000000;stroke-width:1.875;\" x=\"57.590156\" xlink:href=\"#m0f2def28ca\" y=\"209.164711\"/>\r\n      </g>\r\n     </g>\r\n     <g id=\"text_6\">\r\n      <!-- 0.05 -->\r\n      <g transform=\"translate(41.658672 239.634281)rotate(-90)scale(0.165 -0.165)\">\r\n       <defs>\r\n        <path d=\"M 684 794 \r\nL 1344 794 \r\nL 1344 0 \r\nL 684 0 \r\nL 684 794 \r\nz\r\n\" id=\"DejaVuSans-2e\" transform=\"scale(0.015625)\"/>\r\n        <path d=\"M 691 4666 \r\nL 3169 4666 \r\nL 3169 4134 \r\nL 1269 4134 \r\nL 1269 2991 \r\nQ 1406 3038 1543 3061 \r\nQ 1681 3084 1819 3084 \r\nQ 2600 3084 3056 2656 \r\nQ 3513 2228 3513 1497 \r\nQ 3513 744 3044 326 \r\nQ 2575 -91 1722 -91 \r\nQ 1428 -91 1123 -41 \r\nQ 819 9 494 109 \r\nL 494 744 \r\nQ 775 591 1075 516 \r\nQ 1375 441 1709 441 \r\nQ 2250 441 2565 725 \r\nQ 2881 1009 2881 1497 \r\nQ 2881 1984 2565 2268 \r\nQ 2250 2553 1709 2553 \r\nQ 1456 2553 1204 2497 \r\nQ 953 2441 691 2322 \r\nL 691 4666 \r\nz\r\n\" id=\"DejaVuSans-35\" transform=\"scale(0.015625)\"/>\r\n       </defs>\r\n       <use xlink:href=\"#DejaVuSans-30\"/>\r\n       <use x=\"63.623047\" xlink:href=\"#DejaVuSans-2e\"/>\r\n       <use x=\"95.410156\" xlink:href=\"#DejaVuSans-30\"/>\r\n       <use x=\"159.033203\" xlink:href=\"#DejaVuSans-35\"/>\r\n      </g>\r\n     </g>\r\n    </g>\r\n    <g id=\"ytick_2\">\r\n     <g id=\"line2d_6\">\r\n      <g>\r\n       <use style=\"stroke:#000000;stroke-width:1.875;\" x=\"57.590156\" xlink:href=\"#m0f2def28ca\" y=\"165.676711\"/>\r\n      </g>\r\n     </g>\r\n     <g id=\"text_7\">\r\n      <!-- 0.1 -->\r\n      <g transform=\"translate(41.658672 185.648156)rotate(-90)scale(0.165 -0.165)\">\r\n       <use xlink:href=\"#DejaVuSans-30\"/>\r\n       <use x=\"63.623047\" xlink:href=\"#DejaVuSans-2e\"/>\r\n       <use x=\"95.410156\" xlink:href=\"#DejaVuSans-31\"/>\r\n      </g>\r\n     </g>\r\n    </g>\r\n    <g id=\"ytick_3\">\r\n     <g id=\"line2d_7\">\r\n      <g>\r\n       <use style=\"stroke:#000000;stroke-width:1.875;\" x=\"57.590156\" xlink:href=\"#m0f2def28ca\" y=\"122.188711\"/>\r\n      </g>\r\n     </g>\r\n     <g id=\"text_8\">\r\n      <!-- 0.5 -->\r\n      <g transform=\"translate(41.658672 142.160156)rotate(-90)scale(0.165 -0.165)\">\r\n       <use xlink:href=\"#DejaVuSans-30\"/>\r\n       <use x=\"63.623047\" xlink:href=\"#DejaVuSans-2e\"/>\r\n       <use x=\"95.410156\" xlink:href=\"#DejaVuSans-35\"/>\r\n      </g>\r\n     </g>\r\n    </g>\r\n    <g id=\"ytick_4\">\r\n     <g id=\"line2d_8\">\r\n      <g>\r\n       <use style=\"stroke:#000000;stroke-width:1.875;\" x=\"57.590156\" xlink:href=\"#m0f2def28ca\" y=\"78.700711\"/>\r\n      </g>\r\n     </g>\r\n     <g id=\"text_9\">\r\n      <!-- 1.0 -->\r\n      <g transform=\"translate(41.658672 98.672156)rotate(-90)scale(0.165 -0.165)\">\r\n       <use xlink:href=\"#DejaVuSans-31\"/>\r\n       <use x=\"63.623047\" xlink:href=\"#DejaVuSans-2e\"/>\r\n       <use x=\"95.410156\" xlink:href=\"#DejaVuSans-30\"/>\r\n      </g>\r\n     </g>\r\n    </g>\r\n    <g id=\"ytick_5\">\r\n     <g id=\"line2d_9\">\r\n      <g>\r\n       <use style=\"stroke:#000000;stroke-width:1.875;\" x=\"57.590156\" xlink:href=\"#m0f2def28ca\" y=\"35.212711\"/>\r\n      </g>\r\n     </g>\r\n     <g id=\"text_10\">\r\n      <!-- 5.0 -->\r\n      <g transform=\"translate(41.658672 55.184156)rotate(-90)scale(0.165 -0.165)\">\r\n       <use xlink:href=\"#DejaVuSans-35\"/>\r\n       <use x=\"63.623047\" xlink:href=\"#DejaVuSans-2e\"/>\r\n       <use x=\"95.410156\" xlink:href=\"#DejaVuSans-30\"/>\r\n      </g>\r\n     </g>\r\n    </g>\r\n    <g id=\"text_11\">\r\n     <!-- learning_rate -->\r\n     <g transform=\"translate(20.877187 181.687148)rotate(-90)scale(0.18 -0.18)\">\r\n      <defs>\r\n       <path d=\"M 2631 2963 \r\nQ 2534 3019 2420 3045 \r\nQ 2306 3072 2169 3072 \r\nQ 1681 3072 1420 2755 \r\nQ 1159 2438 1159 1844 \r\nL 1159 0 \r\nL 581 0 \r\nL 581 3500 \r\nL 1159 3500 \r\nL 1159 2956 \r\nQ 1341 3275 1631 3429 \r\nQ 1922 3584 2338 3584 \r\nQ 2397 3584 2469 3576 \r\nQ 2541 3569 2628 3553 \r\nL 2631 2963 \r\nz\r\n\" id=\"DejaVuSans-72\" transform=\"scale(0.015625)\"/>\r\n       <path d=\"M 603 3500 \r\nL 1178 3500 \r\nL 1178 0 \r\nL 603 0 \r\nL 603 3500 \r\nz\r\nM 603 4863 \r\nL 1178 4863 \r\nL 1178 4134 \r\nL 603 4134 \r\nL 603 4863 \r\nz\r\n\" id=\"DejaVuSans-69\" transform=\"scale(0.015625)\"/>\r\n       <path d=\"M 2906 1791 \r\nQ 2906 2416 2648 2759 \r\nQ 2391 3103 1925 3103 \r\nQ 1463 3103 1205 2759 \r\nQ 947 2416 947 1791 \r\nQ 947 1169 1205 825 \r\nQ 1463 481 1925 481 \r\nQ 2391 481 2648 825 \r\nQ 2906 1169 2906 1791 \r\nz\r\nM 3481 434 \r\nQ 3481 -459 3084 -895 \r\nQ 2688 -1331 1869 -1331 \r\nQ 1566 -1331 1297 -1286 \r\nQ 1028 -1241 775 -1147 \r\nL 775 -588 \r\nQ 1028 -725 1275 -790 \r\nQ 1522 -856 1778 -856 \r\nQ 2344 -856 2625 -561 \r\nQ 2906 -266 2906 331 \r\nL 2906 616 \r\nQ 2728 306 2450 153 \r\nQ 2172 0 1784 0 \r\nQ 1141 0 747 490 \r\nQ 353 981 353 1791 \r\nQ 353 2603 747 3093 \r\nQ 1141 3584 1784 3584 \r\nQ 2172 3584 2450 3431 \r\nQ 2728 3278 2906 2969 \r\nL 2906 3500 \r\nL 3481 3500 \r\nL 3481 434 \r\nz\r\n\" id=\"DejaVuSans-67\" transform=\"scale(0.015625)\"/>\r\n       <path d=\"M 1172 4494 \r\nL 1172 3500 \r\nL 2356 3500 \r\nL 2356 3053 \r\nL 1172 3053 \r\nL 1172 1153 \r\nQ 1172 725 1289 603 \r\nQ 1406 481 1766 481 \r\nL 2356 481 \r\nL 2356 0 \r\nL 1766 0 \r\nQ 1100 0 847 248 \r\nQ 594 497 594 1153 \r\nL 594 3053 \r\nL 172 3053 \r\nL 172 3500 \r\nL 594 3500 \r\nL 594 4494 \r\nL 1172 4494 \r\nz\r\n\" id=\"DejaVuSans-74\" transform=\"scale(0.015625)\"/>\r\n      </defs>\r\n      <use xlink:href=\"#DejaVuSans-6c\"/>\r\n      <use x=\"27.783203\" xlink:href=\"#DejaVuSans-65\"/>\r\n      <use x=\"89.306641\" xlink:href=\"#DejaVuSans-61\"/>\r\n      <use x=\"150.585938\" xlink:href=\"#DejaVuSans-72\"/>\r\n      <use x=\"189.949219\" xlink:href=\"#DejaVuSans-6e\"/>\r\n      <use x=\"253.328125\" xlink:href=\"#DejaVuSans-69\"/>\r\n      <use x=\"281.111328\" xlink:href=\"#DejaVuSans-6e\"/>\r\n      <use x=\"344.490234\" xlink:href=\"#DejaVuSans-67\"/>\r\n      <use x=\"407.966797\" xlink:href=\"#DejaVuSans-5f\"/>\r\n      <use x=\"457.966797\" xlink:href=\"#DejaVuSans-72\"/>\r\n      <use x=\"499.080078\" xlink:href=\"#DejaVuSans-61\"/>\r\n      <use x=\"560.359375\" xlink:href=\"#DejaVuSans-74\"/>\r\n      <use x=\"599.568359\" xlink:href=\"#DejaVuSans-65\"/>\r\n     </g>\r\n    </g>\r\n   </g>\r\n   <g id=\"text_12\">\r\n    <!-- 0.83 -->\r\n    <g style=\"fill:#ffffff;\" transform=\"translate(79.937344 211.924086)scale(0.1 -0.1)\">\r\n     <defs>\r\n      <path d=\"M 2034 2216 \r\nQ 1584 2216 1326 1975 \r\nQ 1069 1734 1069 1313 \r\nQ 1069 891 1326 650 \r\nQ 1584 409 2034 409 \r\nQ 2484 409 2743 651 \r\nQ 3003 894 3003 1313 \r\nQ 3003 1734 2745 1975 \r\nQ 2488 2216 2034 2216 \r\nz\r\nM 1403 2484 \r\nQ 997 2584 770 2862 \r\nQ 544 3141 544 3541 \r\nQ 544 4100 942 4425 \r\nQ 1341 4750 2034 4750 \r\nQ 2731 4750 3128 4425 \r\nQ 3525 4100 3525 3541 \r\nQ 3525 3141 3298 2862 \r\nQ 3072 2584 2669 2484 \r\nQ 3125 2378 3379 2068 \r\nQ 3634 1759 3634 1313 \r\nQ 3634 634 3220 271 \r\nQ 2806 -91 2034 -91 \r\nQ 1263 -91 848 271 \r\nQ 434 634 434 1313 \r\nQ 434 1759 690 2068 \r\nQ 947 2378 1403 2484 \r\nz\r\nM 1172 3481 \r\nQ 1172 3119 1398 2916 \r\nQ 1625 2713 2034 2713 \r\nQ 2441 2713 2670 2916 \r\nQ 2900 3119 2900 3481 \r\nQ 2900 3844 2670 4047 \r\nQ 2441 4250 2034 4250 \r\nQ 1625 4250 1398 4047 \r\nQ 1172 3844 1172 3481 \r\nz\r\n\" id=\"DejaVuSans-38\" transform=\"scale(0.015625)\"/>\r\n     </defs>\r\n     <use xlink:href=\"#DejaVuSans-30\"/>\r\n     <use x=\"63.623047\" xlink:href=\"#DejaVuSans-2e\"/>\r\n     <use x=\"95.410156\" xlink:href=\"#DejaVuSans-38\"/>\r\n     <use x=\"159.033203\" xlink:href=\"#DejaVuSans-33\"/>\r\n    </g>\r\n   </g>\r\n   <g id=\"text_13\">\r\n    <!-- 0.86 -->\r\n    <g style=\"fill:#ffffff;\" transform=\"translate(146.897344 211.924086)scale(0.1 -0.1)\">\r\n     <defs>\r\n      <path d=\"M 2113 2584 \r\nQ 1688 2584 1439 2293 \r\nQ 1191 2003 1191 1497 \r\nQ 1191 994 1439 701 \r\nQ 1688 409 2113 409 \r\nQ 2538 409 2786 701 \r\nQ 3034 994 3034 1497 \r\nQ 3034 2003 2786 2293 \r\nQ 2538 2584 2113 2584 \r\nz\r\nM 3366 4563 \r\nL 3366 3988 \r\nQ 3128 4100 2886 4159 \r\nQ 2644 4219 2406 4219 \r\nQ 1781 4219 1451 3797 \r\nQ 1122 3375 1075 2522 \r\nQ 1259 2794 1537 2939 \r\nQ 1816 3084 2150 3084 \r\nQ 2853 3084 3261 2657 \r\nQ 3669 2231 3669 1497 \r\nQ 3669 778 3244 343 \r\nQ 2819 -91 2113 -91 \r\nQ 1303 -91 875 529 \r\nQ 447 1150 447 2328 \r\nQ 447 3434 972 4092 \r\nQ 1497 4750 2381 4750 \r\nQ 2619 4750 2861 4703 \r\nQ 3103 4656 3366 4563 \r\nz\r\n\" id=\"DejaVuSans-36\" transform=\"scale(0.015625)\"/>\r\n     </defs>\r\n     <use xlink:href=\"#DejaVuSans-30\"/>\r\n     <use x=\"63.623047\" xlink:href=\"#DejaVuSans-2e\"/>\r\n     <use x=\"95.410156\" xlink:href=\"#DejaVuSans-38\"/>\r\n     <use x=\"159.033203\" xlink:href=\"#DejaVuSans-36\"/>\r\n    </g>\r\n   </g>\r\n   <g id=\"text_14\">\r\n    <!-- 0.87 -->\r\n    <g style=\"fill:#ffffff;\" transform=\"translate(213.857344 211.924086)scale(0.1 -0.1)\">\r\n     <defs>\r\n      <path d=\"M 525 4666 \r\nL 3525 4666 \r\nL 3525 4397 \r\nL 1831 0 \r\nL 1172 0 \r\nL 2766 4134 \r\nL 525 4134 \r\nL 525 4666 \r\nz\r\n\" id=\"DejaVuSans-37\" transform=\"scale(0.015625)\"/>\r\n     </defs>\r\n     <use xlink:href=\"#DejaVuSans-30\"/>\r\n     <use x=\"63.623047\" xlink:href=\"#DejaVuSans-2e\"/>\r\n     <use x=\"95.410156\" xlink:href=\"#DejaVuSans-38\"/>\r\n     <use x=\"159.033203\" xlink:href=\"#DejaVuSans-37\"/>\r\n    </g>\r\n   </g>\r\n   <g id=\"text_15\">\r\n    <!-- 0.87 -->\r\n    <g style=\"fill:#ffffff;\" transform=\"translate(280.817344 211.924086)scale(0.1 -0.1)\">\r\n     <use xlink:href=\"#DejaVuSans-30\"/>\r\n     <use x=\"63.623047\" xlink:href=\"#DejaVuSans-2e\"/>\r\n     <use x=\"95.410156\" xlink:href=\"#DejaVuSans-38\"/>\r\n     <use x=\"159.033203\" xlink:href=\"#DejaVuSans-37\"/>\r\n    </g>\r\n   </g>\r\n   <g id=\"text_16\">\r\n    <!-- 0.85 -->\r\n    <g style=\"fill:#ffffff;\" transform=\"translate(79.937344 168.436086)scale(0.1 -0.1)\">\r\n     <use xlink:href=\"#DejaVuSans-30\"/>\r\n     <use x=\"63.623047\" xlink:href=\"#DejaVuSans-2e\"/>\r\n     <use x=\"95.410156\" xlink:href=\"#DejaVuSans-38\"/>\r\n     <use x=\"159.033203\" xlink:href=\"#DejaVuSans-35\"/>\r\n    </g>\r\n   </g>\r\n   <g id=\"text_17\">\r\n    <!-- 0.87 -->\r\n    <g style=\"fill:#ffffff;\" transform=\"translate(146.897344 168.436086)scale(0.1 -0.1)\">\r\n     <use xlink:href=\"#DejaVuSans-30\"/>\r\n     <use x=\"63.623047\" xlink:href=\"#DejaVuSans-2e\"/>\r\n     <use x=\"95.410156\" xlink:href=\"#DejaVuSans-38\"/>\r\n     <use x=\"159.033203\" xlink:href=\"#DejaVuSans-37\"/>\r\n    </g>\r\n   </g>\r\n   <g id=\"text_18\">\r\n    <!-- 0.87 -->\r\n    <g style=\"fill:#ffffff;\" transform=\"translate(213.857344 168.436086)scale(0.1 -0.1)\">\r\n     <use xlink:href=\"#DejaVuSans-30\"/>\r\n     <use x=\"63.623047\" xlink:href=\"#DejaVuSans-2e\"/>\r\n     <use x=\"95.410156\" xlink:href=\"#DejaVuSans-38\"/>\r\n     <use x=\"159.033203\" xlink:href=\"#DejaVuSans-37\"/>\r\n    </g>\r\n   </g>\r\n   <g id=\"text_19\">\r\n    <!-- 0.86 -->\r\n    <g style=\"fill:#ffffff;\" transform=\"translate(280.817344 168.436086)scale(0.1 -0.1)\">\r\n     <use xlink:href=\"#DejaVuSans-30\"/>\r\n     <use x=\"63.623047\" xlink:href=\"#DejaVuSans-2e\"/>\r\n     <use x=\"95.410156\" xlink:href=\"#DejaVuSans-38\"/>\r\n     <use x=\"159.033203\" xlink:href=\"#DejaVuSans-36\"/>\r\n    </g>\r\n   </g>\r\n   <g id=\"text_20\">\r\n    <!-- 0.87 -->\r\n    <g style=\"fill:#ffffff;\" transform=\"translate(79.937344 124.948086)scale(0.1 -0.1)\">\r\n     <use xlink:href=\"#DejaVuSans-30\"/>\r\n     <use x=\"63.623047\" xlink:href=\"#DejaVuSans-2e\"/>\r\n     <use x=\"95.410156\" xlink:href=\"#DejaVuSans-38\"/>\r\n     <use x=\"159.033203\" xlink:href=\"#DejaVuSans-37\"/>\r\n    </g>\r\n   </g>\r\n   <g id=\"text_21\">\r\n    <!-- 0.87 -->\r\n    <g style=\"fill:#ffffff;\" transform=\"translate(146.897344 124.948086)scale(0.1 -0.1)\">\r\n     <use xlink:href=\"#DejaVuSans-30\"/>\r\n     <use x=\"63.623047\" xlink:href=\"#DejaVuSans-2e\"/>\r\n     <use x=\"95.410156\" xlink:href=\"#DejaVuSans-38\"/>\r\n     <use x=\"159.033203\" xlink:href=\"#DejaVuSans-37\"/>\r\n    </g>\r\n   </g>\r\n   <g id=\"text_22\">\r\n    <!-- 0.87 -->\r\n    <g style=\"fill:#ffffff;\" transform=\"translate(213.857344 124.948086)scale(0.1 -0.1)\">\r\n     <use xlink:href=\"#DejaVuSans-30\"/>\r\n     <use x=\"63.623047\" xlink:href=\"#DejaVuSans-2e\"/>\r\n     <use x=\"95.410156\" xlink:href=\"#DejaVuSans-38\"/>\r\n     <use x=\"159.033203\" xlink:href=\"#DejaVuSans-37\"/>\r\n    </g>\r\n   </g>\r\n   <g id=\"text_23\">\r\n    <!-- 0.86 -->\r\n    <g style=\"fill:#ffffff;\" transform=\"translate(280.817344 124.948086)scale(0.1 -0.1)\">\r\n     <use xlink:href=\"#DejaVuSans-30\"/>\r\n     <use x=\"63.623047\" xlink:href=\"#DejaVuSans-2e\"/>\r\n     <use x=\"95.410156\" xlink:href=\"#DejaVuSans-38\"/>\r\n     <use x=\"159.033203\" xlink:href=\"#DejaVuSans-36\"/>\r\n    </g>\r\n   </g>\r\n   <g id=\"text_24\">\r\n    <!-- 0.86 -->\r\n    <g style=\"fill:#ffffff;\" transform=\"translate(79.937344 81.460086)scale(0.1 -0.1)\">\r\n     <use xlink:href=\"#DejaVuSans-30\"/>\r\n     <use x=\"63.623047\" xlink:href=\"#DejaVuSans-2e\"/>\r\n     <use x=\"95.410156\" xlink:href=\"#DejaVuSans-38\"/>\r\n     <use x=\"159.033203\" xlink:href=\"#DejaVuSans-36\"/>\r\n    </g>\r\n   </g>\r\n   <g id=\"text_25\">\r\n    <!-- 0.86 -->\r\n    <g style=\"fill:#ffffff;\" transform=\"translate(146.897344 81.460086)scale(0.1 -0.1)\">\r\n     <use xlink:href=\"#DejaVuSans-30\"/>\r\n     <use x=\"63.623047\" xlink:href=\"#DejaVuSans-2e\"/>\r\n     <use x=\"95.410156\" xlink:href=\"#DejaVuSans-38\"/>\r\n     <use x=\"159.033203\" xlink:href=\"#DejaVuSans-36\"/>\r\n    </g>\r\n   </g>\r\n   <g id=\"text_26\">\r\n    <!-- 0.85 -->\r\n    <g style=\"fill:#ffffff;\" transform=\"translate(213.857344 81.460086)scale(0.1 -0.1)\">\r\n     <use xlink:href=\"#DejaVuSans-30\"/>\r\n     <use x=\"63.623047\" xlink:href=\"#DejaVuSans-2e\"/>\r\n     <use x=\"95.410156\" xlink:href=\"#DejaVuSans-38\"/>\r\n     <use x=\"159.033203\" xlink:href=\"#DejaVuSans-35\"/>\r\n    </g>\r\n   </g>\r\n   <g id=\"text_27\">\r\n    <!-- 0.84 -->\r\n    <g style=\"fill:#ffffff;\" transform=\"translate(280.817344 81.460086)scale(0.1 -0.1)\">\r\n     <defs>\r\n      <path d=\"M 2419 4116 \r\nL 825 1625 \r\nL 2419 1625 \r\nL 2419 4116 \r\nz\r\nM 2253 4666 \r\nL 3047 4666 \r\nL 3047 1625 \r\nL 3713 1625 \r\nL 3713 1100 \r\nL 3047 1100 \r\nL 3047 0 \r\nL 2419 0 \r\nL 2419 1100 \r\nL 313 1100 \r\nL 313 1709 \r\nL 2253 4666 \r\nz\r\n\" id=\"DejaVuSans-34\" transform=\"scale(0.015625)\"/>\r\n     </defs>\r\n     <use xlink:href=\"#DejaVuSans-30\"/>\r\n     <use x=\"63.623047\" xlink:href=\"#DejaVuSans-2e\"/>\r\n     <use x=\"95.410156\" xlink:href=\"#DejaVuSans-38\"/>\r\n     <use x=\"159.033203\" xlink:href=\"#DejaVuSans-34\"/>\r\n    </g>\r\n   </g>\r\n   <g id=\"text_28\">\r\n    <!-- 0.28 -->\r\n    <g style=\"fill:#262626;\" transform=\"translate(79.937344 37.972086)scale(0.1 -0.1)\">\r\n     <defs>\r\n      <path d=\"M 1228 531 \r\nL 3431 531 \r\nL 3431 0 \r\nL 469 0 \r\nL 469 531 \r\nQ 828 903 1448 1529 \r\nQ 2069 2156 2228 2338 \r\nQ 2531 2678 2651 2914 \r\nQ 2772 3150 2772 3378 \r\nQ 2772 3750 2511 3984 \r\nQ 2250 4219 1831 4219 \r\nQ 1534 4219 1204 4116 \r\nQ 875 4013 500 3803 \r\nL 500 4441 \r\nQ 881 4594 1212 4672 \r\nQ 1544 4750 1819 4750 \r\nQ 2544 4750 2975 4387 \r\nQ 3406 4025 3406 3419 \r\nQ 3406 3131 3298 2873 \r\nQ 3191 2616 2906 2266 \r\nQ 2828 2175 2409 1742 \r\nQ 1991 1309 1228 531 \r\nz\r\n\" id=\"DejaVuSans-32\" transform=\"scale(0.015625)\"/>\r\n     </defs>\r\n     <use xlink:href=\"#DejaVuSans-30\"/>\r\n     <use x=\"63.623047\" xlink:href=\"#DejaVuSans-2e\"/>\r\n     <use x=\"95.410156\" xlink:href=\"#DejaVuSans-32\"/>\r\n     <use x=\"159.033203\" xlink:href=\"#DejaVuSans-38\"/>\r\n    </g>\r\n   </g>\r\n   <g id=\"text_29\">\r\n    <!-- 0.53 -->\r\n    <g style=\"fill:#262626;\" transform=\"translate(146.897344 37.972086)scale(0.1 -0.1)\">\r\n     <use xlink:href=\"#DejaVuSans-30\"/>\r\n     <use x=\"63.623047\" xlink:href=\"#DejaVuSans-2e\"/>\r\n     <use x=\"95.410156\" xlink:href=\"#DejaVuSans-35\"/>\r\n     <use x=\"159.033203\" xlink:href=\"#DejaVuSans-33\"/>\r\n    </g>\r\n   </g>\r\n   <g id=\"text_30\">\r\n    <!-- 0.64 -->\r\n    <g style=\"fill:#262626;\" transform=\"translate(213.857344 37.972086)scale(0.1 -0.1)\">\r\n     <use xlink:href=\"#DejaVuSans-30\"/>\r\n     <use x=\"63.623047\" xlink:href=\"#DejaVuSans-2e\"/>\r\n     <use x=\"95.410156\" xlink:href=\"#DejaVuSans-36\"/>\r\n     <use x=\"159.033203\" xlink:href=\"#DejaVuSans-34\"/>\r\n    </g>\r\n   </g>\r\n   <g id=\"text_31\">\r\n    <!-- 0.73 -->\r\n    <g style=\"fill:#262626;\" transform=\"translate(280.817344 37.972086)scale(0.1 -0.1)\">\r\n     <use xlink:href=\"#DejaVuSans-30\"/>\r\n     <use x=\"63.623047\" xlink:href=\"#DejaVuSans-2e\"/>\r\n     <use x=\"95.410156\" xlink:href=\"#DejaVuSans-37\"/>\r\n     <use x=\"159.033203\" xlink:href=\"#DejaVuSans-33\"/>\r\n    </g>\r\n   </g>\r\n  </g>\r\n  <g id=\"axes_2\">\r\n   <g id=\"patch_3\">\r\n    <path d=\"M 342.170156 230.908711 \r\nL 353.042156 230.908711 \r\nL 353.042156 13.468711 \r\nL 342.170156 13.468711 \r\nz\r\n\" style=\"fill:#ffffff;\"/>\r\n   </g>\r\n   <g id=\"patch_4\">\r\n    <path clip-path=\"url(#p85a65dec55)\" d=\"M 342.170156 230.908711 \r\nL 342.170156 230.059336 \r\nL 342.170156 14.318086 \r\nL 342.170156 13.468711 \r\nL 353.042156 13.468711 \r\nL 353.042156 14.318086 \r\nL 353.042156 230.059336 \r\nL 353.042156 230.908711 \r\nL 353.042156 230.908711 \r\nz\r\n\" style=\"fill:#ffffff;stroke:#ffffff;stroke-linejoin:miter;stroke-width:0.01;\"/>\r\n   </g>\r\n   <image height=\"217\" id=\"image01893cea29\" transform=\"scale(1 -1)translate(0 -217)\" width=\"11\" x=\"342\" xlink:href=\"data:image/png;base64,\r\niVBORw0KGgoAAAANSUhEUgAAAAsAAADZCAYAAAD2WsoCAAABXklEQVR4nO2aQQ4CMQwDU6n/fx9/2W3CmVsGaaQsgrNlObYbtiwr61XR/OyI7GJjV7WJY0cAcBEw0pwFwFCzxkx8rjgzZFgJIuZicWsymBvWgGZFLeuQjNPHxgbY2KD7mHlJzMyNGdb1a4SZNZ/Ts06TIWqecVKGrALUZxTKnZYbrEh9LDyDSPMNdLABD9HsnUHk80W64WmGrQOaL89nLW7vDLJV0CdW+4x87hPHPl75iQzPjfuBofzd+FoGeuz5eTfQroM+DwGDC2+CbU6vSxazB07wFftIN2DclhtDrPPKP8U6MmAAo3eQARdjbmOp5kN+vST3wYVeZCDNWihBdh2S8Y/7k1lLkGiGbpC4vQS9IiE3EPOQxYhON2odA7exY3YdO93igITZ2/zirmtjaSjigG0sZPbewyZ4CtyhyWADEnDWTZhHhOK5UcwNTYb39l/shiXD+1tUJhnQqugbjdCl7dcoDtUAAAAASUVORK5CYII=\" y=\"-13\"/>\r\n   <g id=\"matplotlib.axis_3\"/>\r\n   <g id=\"matplotlib.axis_4\">\r\n    <g id=\"ytick_6\">\r\n     <g id=\"line2d_10\">\r\n      <defs>\r\n       <path d=\"M 0 0 \r\nL 9 0 \r\n\" id=\"me1f26e449c\" style=\"stroke:#000000;stroke-width:1.875;\"/>\r\n      </defs>\r\n      <g>\r\n       <use style=\"stroke:#000000;stroke-width:1.875;\" x=\"353.042156\" xlink:href=\"#me1f26e449c\" y=\"230.908711\"/>\r\n      </g>\r\n     </g>\r\n     <g id=\"text_32\">\r\n      <!-- 0.70 -->\r\n      <g transform=\"translate(365.542156 237.177422)scale(0.165 -0.165)\">\r\n       <use xlink:href=\"#DejaVuSans-30\"/>\r\n       <use x=\"63.623047\" xlink:href=\"#DejaVuSans-2e\"/>\r\n       <use x=\"95.410156\" xlink:href=\"#DejaVuSans-37\"/>\r\n       <use x=\"159.033203\" xlink:href=\"#DejaVuSans-30\"/>\r\n      </g>\r\n     </g>\r\n    </g>\r\n    <g id=\"ytick_7\">\r\n     <g id=\"line2d_11\">\r\n      <g>\r\n       <use style=\"stroke:#000000;stroke-width:1.875;\" x=\"353.042156\" xlink:href=\"#me1f26e449c\" y=\"176.548711\"/>\r\n      </g>\r\n     </g>\r\n     <g id=\"text_33\">\r\n      <!-- 0.75 -->\r\n      <g transform=\"translate(365.542156 182.817422)scale(0.165 -0.165)\">\r\n       <use xlink:href=\"#DejaVuSans-30\"/>\r\n       <use x=\"63.623047\" xlink:href=\"#DejaVuSans-2e\"/>\r\n       <use x=\"95.410156\" xlink:href=\"#DejaVuSans-37\"/>\r\n       <use x=\"159.033203\" xlink:href=\"#DejaVuSans-35\"/>\r\n      </g>\r\n     </g>\r\n    </g>\r\n    <g id=\"ytick_8\">\r\n     <g id=\"line2d_12\">\r\n      <g>\r\n       <use style=\"stroke:#000000;stroke-width:1.875;\" x=\"353.042156\" xlink:href=\"#me1f26e449c\" y=\"122.188711\"/>\r\n      </g>\r\n     </g>\r\n     <g id=\"text_34\">\r\n      <!-- 0.80 -->\r\n      <g transform=\"translate(365.542156 128.457422)scale(0.165 -0.165)\">\r\n       <use xlink:href=\"#DejaVuSans-30\"/>\r\n       <use x=\"63.623047\" xlink:href=\"#DejaVuSans-2e\"/>\r\n       <use x=\"95.410156\" xlink:href=\"#DejaVuSans-38\"/>\r\n       <use x=\"159.033203\" xlink:href=\"#DejaVuSans-30\"/>\r\n      </g>\r\n     </g>\r\n    </g>\r\n    <g id=\"ytick_9\">\r\n     <g id=\"line2d_13\">\r\n      <g>\r\n       <use style=\"stroke:#000000;stroke-width:1.875;\" x=\"353.042156\" xlink:href=\"#me1f26e449c\" y=\"67.828711\"/>\r\n      </g>\r\n     </g>\r\n     <g id=\"text_35\">\r\n      <!-- 0.85 -->\r\n      <g transform=\"translate(365.542156 74.097422)scale(0.165 -0.165)\">\r\n       <use xlink:href=\"#DejaVuSans-30\"/>\r\n       <use x=\"63.623047\" xlink:href=\"#DejaVuSans-2e\"/>\r\n       <use x=\"95.410156\" xlink:href=\"#DejaVuSans-38\"/>\r\n       <use x=\"159.033203\" xlink:href=\"#DejaVuSans-35\"/>\r\n      </g>\r\n     </g>\r\n    </g>\r\n    <g id=\"ytick_10\">\r\n     <g id=\"line2d_14\">\r\n      <g>\r\n       <use style=\"stroke:#000000;stroke-width:1.875;\" x=\"353.042156\" xlink:href=\"#me1f26e449c\" y=\"13.468711\"/>\r\n      </g>\r\n     </g>\r\n     <g id=\"text_36\">\r\n      <!-- 0.90 -->\r\n      <g transform=\"translate(365.542156 19.737422)scale(0.165 -0.165)\">\r\n       <defs>\r\n        <path d=\"M 703 97 \r\nL 703 672 \r\nQ 941 559 1184 500 \r\nQ 1428 441 1663 441 \r\nQ 2288 441 2617 861 \r\nQ 2947 1281 2994 2138 \r\nQ 2813 1869 2534 1725 \r\nQ 2256 1581 1919 1581 \r\nQ 1219 1581 811 2004 \r\nQ 403 2428 403 3163 \r\nQ 403 3881 828 4315 \r\nQ 1253 4750 1959 4750 \r\nQ 2769 4750 3195 4129 \r\nQ 3622 3509 3622 2328 \r\nQ 3622 1225 3098 567 \r\nQ 2575 -91 1691 -91 \r\nQ 1453 -91 1209 -44 \r\nQ 966 3 703 97 \r\nz\r\nM 1959 2075 \r\nQ 2384 2075 2632 2365 \r\nQ 2881 2656 2881 3163 \r\nQ 2881 3666 2632 3958 \r\nQ 2384 4250 1959 4250 \r\nQ 1534 4250 1286 3958 \r\nQ 1038 3666 1038 3163 \r\nQ 1038 2656 1286 2365 \r\nQ 1534 2075 1959 2075 \r\nz\r\n\" id=\"DejaVuSans-39\" transform=\"scale(0.015625)\"/>\r\n       </defs>\r\n       <use xlink:href=\"#DejaVuSans-30\"/>\r\n       <use x=\"63.623047\" xlink:href=\"#DejaVuSans-2e\"/>\r\n       <use x=\"95.410156\" xlink:href=\"#DejaVuSans-39\"/>\r\n       <use x=\"159.033203\" xlink:href=\"#DejaVuSans-30\"/>\r\n      </g>\r\n     </g>\r\n    </g>\r\n   </g>\r\n   <g id=\"LineCollection_1\"/>\r\n   <g id=\"patch_5\">\r\n    <path d=\"M 342.170156 230.908711 \r\nL 342.170156 230.059336 \r\nL 342.170156 14.318086 \r\nL 342.170156 13.468711 \r\nL 353.042156 13.468711 \r\nL 353.042156 14.318086 \r\nL 353.042156 230.059336 \r\nL 353.042156 230.908711 \r\nz\r\n\" style=\"fill:none;\"/>\r\n   </g>\r\n  </g>\r\n </g>\r\n <defs>\r\n  <clipPath id=\"p02a2113dd5\">\r\n   <rect height=\"217.44\" width=\"267.84\" x=\"57.590156\" y=\"13.468711\"/>\r\n  </clipPath>\r\n  <clipPath id=\"p85a65dec55\">\r\n   <rect height=\"217.44\" width=\"10.872\" x=\"342.170156\" y=\"13.468711\"/>\r\n  </clipPath>\r\n </defs>\r\n</svg>\r\n",
      "image/png": "[encoded data removed]"
     },
     "metadata": {
      "needs_background": "light"
     }
    }
   ],
   "source": [
    "import seaborn as sns\n",
    "\n",
    "ax = sns.heatmap(pivoted_cv_results, annot=True, cmap=\"YlGnBu\", vmin=0.7,\n",
    "                 vmax=0.9)\n",
    "ax.invert_yaxis()"
   ]
  },
  {
   "cell_type": "markdown",
   "metadata": {},
   "source": [
    "The above tables highlights the following things:\n",
    "\n",
    "* for too high values of `learning_rate`, the statistical performance of the\n",
    "  model is degraded and adjusting the value of `max_leaf_nodes` cannot fix\n",
    "  that problem;\n",
    "* outside of this pathological region, we observe that the optimal choice\n",
    "  of `max_leaf_nodes` depends on the value of `learning_rate`;\n",
    "* in particular, we observe a \"diagonal\" of good models with an accuracy\n",
    "  close to the maximal of 0.87: when the value of `max_leaf_nodes` is\n",
    "  increased, one should increase the value of `learning_rate` accordingly\n",
    "  to preserve a good accuracy.\n",
    "\n",
    "The precise meaning of those two parameters will be explained in a latter\n",
    "notebook.\n",
    "\n",
    "For now we will note that, in general, **there is no unique optimal parameter\n",
    "setting**: 6 models out of the 16 parameter configuration reach the maximal\n",
    "accuracy (up to small random fluctuations caused by the sampling of the\n",
    "training set)."
   ]
  },
  {
   "cell_type": "markdown",
   "metadata": {},
   "source": [
    "In this notebook we have seen:\n",
    "\n",
    "* how to optimize the hyperparameters of a predictive model via a\n",
    "  grid-search;\n",
    "* that searching for more than two hyperparamters is too costly;\n",
    "* that a grid-search does not necessarily find an optimal solution."
   ]
  }
 ],
 "metadata": {
  "jupytext": {
   "cell_metadata_filter": "-all",
   "main_language": "python",
   "notebook_metadata_filter": "-all"
  },
  "kernelspec": {
   "name": "python3",
   "display_name": "Python 3.9.1 64-bit"
  },
  "interpreter": {
   "hash": "effe5469eba6e2b1ac8a7bf67c428998281de374b9fe83a2f672f89c7077779b"
  }
 },
 "nbformat": 4,
 "nbformat_minor": 5
}